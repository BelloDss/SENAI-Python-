{
 "cells": [
  {
   "cell_type": "code",
   "execution_count": 4,
   "metadata": {},
   "outputs": [],
   "source": [
    "# Verificar qual é o dia da semana\n",
    "\n",
    "# 1 == Domingo\n",
    "# 2 == Segunda\n",
    "# 3 == Terça\n",
    "# 4 == Quarta\n",
    "# 5 == Quinta\n",
    "# 6 == Sexta\n",
    "# 7 == Sábado\n",
    "\n",
    "\n",
    "\n"
   ]
  },
  {
   "cell_type": "code",
   "execution_count": null,
   "metadata": {},
   "outputs": [
    {
     "name": "stdout",
     "output_type": "stream",
     "text": [
      "\n",
      "1 Domingo\n",
      "2 Segunda\n",
      "3 Terça\n",
      "4 Quarta\n",
      "5 Quinta\n",
      "6  Sexta\n",
      "7 Sábado  \n",
      "       \n",
      "Domingo\n"
     ]
    }
   ],
   "source": [
    "# Verificar qual é o dia da semanas com IF e else e elif\n",
    "\n",
    "msg = (\"\"\"\n",
    "1 Domingo\n",
    "2 Segunda\n",
    "3 Terça\n",
    "4 Quarta\n",
    "5 Quinta\n",
    "6  Sexta\n",
    "7 Sábado  \n",
    "       \"\"\")\n",
    "print (msg)\n",
    "\n",
    "dia = int(input(\"Escolha um dia da semana\"))\n",
    "\n",
    "\n",
    "if dia == 1:\n",
    "    print(\"Domingo\")\n",
    "elif dia == 2:\n",
    "    print(\"Segunda\")\n",
    "elif dia == 3:\n",
    "    print(\"Terça\")\n",
    "elif dia == 4:\n",
    "    print(\"Quarta\")\n",
    "elif dia == 5:\n",
    "    print(\"Quita\")\n",
    "elif dia == 6:\n",
    "    print(\"sexta\")\n",
    "\n",
    "elif dia == 7:\n",
    "    print(\"Sabado\")\n",
    "\n",
    "\n",
    "#Código invalido"
   ]
  },
  {
   "cell_type": "code",
   "execution_count": 13,
   "metadata": {},
   "outputs": [
    {
     "name": "stdout",
     "output_type": "stream",
     "text": [
      "Segunda\n"
     ]
    }
   ],
   "source": [
    "# Verificar qual é o dia da semanas com MATCH/switch E CASE\n",
    "\n",
    "dia = 2\n",
    "\n",
    "match dia:\n",
    "    case 1:\n",
    "        print(\"Domingo\")\n",
    "    case 2:\n",
    "        print(\"Segunda\")\n",
    "    case 3:\n",
    "        print(\"Terça\")\n",
    "    case 4:\n",
    "        print(\"Quarta\")\n",
    "    case 5:\n",
    "        print(\"Quinta\")\n",
    "    case 6:\n",
    "        print(\"Sexta\")\n",
    "    case 7:\n",
    "        print(\"Sabado\")\n",
    "    case _: # Equivalente ao else\n",
    "        print (\"Codigo invalido\")\n",
    "\n"
   ]
  }
 ],
 "metadata": {
  "kernelspec": {
   "display_name": "base",
   "language": "python",
   "name": "python3"
  },
  "language_info": {
   "codemirror_mode": {
    "name": "ipython",
    "version": 3
   },
   "file_extension": ".py",
   "mimetype": "text/x-python",
   "name": "python",
   "nbconvert_exporter": "python",
   "pygments_lexer": "ipython3",
   "version": "3.11.5"
  }
 },
 "nbformat": 4,
 "nbformat_minor": 2
}
