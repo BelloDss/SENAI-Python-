{
 "cells": [
  {
   "cell_type": "code",
   "execution_count": 1,
   "metadata": {},
   "outputs": [
    {
     "name": "stdout",
     "output_type": "stream",
     "text": [
      "True\n",
      "False\n",
      "False\n"
     ]
    }
   ],
   "source": [
    "# Operadores relacionais ou operadores de comparação\n",
    "\n",
    "# Maior - >\n",
    "\n",
    "print (5 > 3)\n",
    "print (5 > 5)\n",
    "print (5 > 7)"
   ]
  },
  {
   "cell_type": "code",
   "execution_count": 3,
   "metadata": {},
   "outputs": [
    {
     "name": "stdout",
     "output_type": "stream",
     "text": [
      "True\n",
      "True\n",
      "False\n"
     ]
    }
   ],
   "source": [
    "# Maior ou igual:  >= =>\n",
    "  # >=       =>\n",
    "\n",
    "print (5 >= 3) #True\n",
    "print (5 >= 5) #True\n",
    "print (5 >= 7) #False\n",
    "\n",
    "\n"
   ]
  },
  {
   "cell_type": "code",
   "execution_count": 5,
   "metadata": {},
   "outputs": [
    {
     "name": "stdout",
     "output_type": "stream",
     "text": [
      "False\n",
      "False\n",
      "True\n"
     ]
    }
   ],
   "source": [
    "# Menor - <\n",
    "\n",
    "\n",
    "print (6 < 3) #False\n",
    "print (6 < 6) #False\n",
    "print (6 < 8) #True\n",
    "\n",
    "\n"
   ]
  },
  {
   "cell_type": "code",
   "execution_count": 6,
   "metadata": {},
   "outputs": [
    {
     "name": "stdout",
     "output_type": "stream",
     "text": [
      "False\n",
      "True\n",
      "True\n"
     ]
    }
   ],
   "source": [
    "# Menor ou igual - <=\n",
    "\n",
    "print (6 <= 3) # False\n",
    "print (6 <= 6) #True (é igual)\n",
    "print (6 <= 8) #True\n"
   ]
  },
  {
   "cell_type": "code",
   "execution_count": 7,
   "metadata": {},
   "outputs": [
    {
     "name": "stdout",
     "output_type": "stream",
     "text": [
      "False\n",
      "True\n",
      "False\n",
      "True\n"
     ]
    }
   ],
   "source": [
    "# igualdade - ==\n",
    "\n",
    "print ( 4 == 3) #False\n",
    "print ( 4 == 4) #True\n",
    "print ( 4 == 5) #False\n",
    "\n",
    "print ( 4 == 2*2)"
   ]
  },
  {
   "cell_type": "code",
   "execution_count": 8,
   "metadata": {},
   "outputs": [
    {
     "name": "stdout",
     "output_type": "stream",
     "text": [
      "True\n",
      "False\n",
      "True\n"
     ]
    }
   ],
   "source": [
    "# diferente - !=\n",
    "\n",
    "print ( 4 != 3) #True\n",
    "print ( 4 != 4) #False\n",
    "print ( 4 != 5) #TRue\n",
    "\n"
   ]
  }
 ],
 "metadata": {
  "kernelspec": {
   "display_name": "base",
   "language": "python",
   "name": "python3"
  },
  "language_info": {
   "codemirror_mode": {
    "name": "ipython",
    "version": 3
   },
   "file_extension": ".py",
   "mimetype": "text/x-python",
   "name": "python",
   "nbconvert_exporter": "python",
   "pygments_lexer": "ipython3",
   "version": "3.11.5"
  }
 },
 "nbformat": 4,
 "nbformat_minor": 2
}
