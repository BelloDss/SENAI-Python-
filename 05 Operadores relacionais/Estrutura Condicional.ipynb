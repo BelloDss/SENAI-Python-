{
 "cells": [
  {
   "cell_type": "code",
   "execution_count": null,
   "metadata": {},
   "outputs": [],
   "source": [
    "# Estrutura condicional if\n",
    "# verificar se o usuario é maior de idade\n",
    "\n",
    "idade = int(input(\"DIGITE A SUA IDADE\"))\n",
    "\n",
    "print (idade)\n",
    "print (idade >= 18)\n",
    "\n",
    "if idade >= 18:\n",
    "    print (\"verdadeiro\")\n",
    "    print(\"Maior de idade\")\n",
    "else: \n",
    "    print (\"Falso\")\n",
    "    print (\"Menor de idade\")\n",
    "\n",
    "\n",
    "print (\"Fim\")"
   ]
  },
  {
   "cell_type": "code",
   "execution_count": null,
   "metadata": {},
   "outputs": [],
   "source": [
    "compra = int(input(\"Digite o saldo da sua conta\"))\n",
    "\n",
    "print (compra)\n",
    "print (compra >= 100)\n",
    "\n",
    "if idade >= 100:\n",
    "    print (\"Compra aprovada\")\n",
    "else: \n",
    "    print (\"Compra reprovada\")\n",
    "\n",
    "\n",
    "print (\"Fim\")\n"
   ]
  },
  {
   "cell_type": "code",
   "execution_count": null,
   "metadata": {},
   "outputs": [],
   "source": [
    "#outra forma de ser feito\n",
    "\n",
    "saldo = float (input(\"Digite o seu saldo\"))\n",
    "\n",
    "if saldo >= 100:\n",
    "    print(\"compra aprovada\")\n",
    "else:\n",
    "    print (\"compra reprovada\")"
   ]
  },
  {
   "cell_type": "code",
   "execution_count": null,
   "metadata": {},
   "outputs": [],
   "source": [
    "curso = input(\"digite o nome do seu curso\")\n",
    "\n",
    "if curso == \"python\":\n",
    "    print(\"EXCELENTE MANO\")\n",
    "\n",
    "else: \n",
    "    print (\"bom\")\n"
   ]
  },
  {
   "cell_type": "code",
   "execution_count": 18,
   "metadata": {},
   "outputs": [
    {
     "name": "stdout",
     "output_type": "stream",
     "text": [
      "a é maior que b\n",
      "a é menor que b\n"
     ]
    }
   ],
   "source": [
    "# elif quando precisamos validar duas ou mais condições:\n",
    "\n",
    "a = 9\n",
    "b = 7 \n",
    "\n",
    "if a > b:\n",
    "    print (\"a é maior que b\")\n",
    "\n",
    "elif a == b:         #elif vai pegar a função if de cima e entender que todas são apenas uma \n",
    "    print(\"a é igual a b\")\n",
    "else:\n",
    "    print (\"a é menor que b\")\n"
   ]
  },
  {
   "cell_type": "code",
   "execution_count": 2,
   "metadata": {},
   "outputs": [
    {
     "name": "stdout",
     "output_type": "stream",
     "text": [
      "a é maior que b\n"
     ]
    }
   ],
   "source": [
    "a = 9\n",
    "b = 7 \n",
    "\n",
    "if a > b:\n",
    "    print (\"a é maior que b\")\n",
    "\n",
    "elif a == b:         #elif vai pegar a função if de cima e entender que todas são apenas uma \n",
    "    print(\"a é igual a b\")\n",
    "elif a < b:\n",
    "    print (\"a é menor que b\")\n",
    "           "
   ]
  },
  {
   "cell_type": "code",
   "execution_count": 5,
   "metadata": {},
   "outputs": [
    {
     "name": "stdout",
     "output_type": "stream",
     "text": [
      "sua nota foi boa\n",
      "fim \n"
     ]
    }
   ],
   "source": [
    "nota = float(input (\"Digite o valor da sua nota\"))\n",
    "\n",
    "if nota >= 6:\n",
    "    print (\"sua nota foi boa\")\n",
    "elif nota == 5:\n",
    "    print (\"regular\")\n",
    "elif nota <= 4:\n",
    "    print (\"ruim busque melhorar imediatament\")\n",
    "print (\"fim \")"
   ]
  },
  {
   "cell_type": "code",
   "execution_count": null,
   "metadata": {},
   "outputs": [],
   "source": [
    "# quando usar o else:\n",
    "# qualquqer tecla digitada alem da letra \"A\" esstá errado\n",
    "\n",
    "letra = input (\"Digite uma letra:\")\n",
    "\n",
    "if letra == \"A\":\n",
    "    print (\"letra correta\")\n",
    "else:\n",
    "    print(\"letra errada\")"
   ]
  },
  {
   "cell_type": "code",
   "execution_count": 7,
   "metadata": {},
   "outputs": [
    {
     "name": "stdout",
     "output_type": "stream",
     "text": [
      "continuar\n",
      "parcelar até em 12x\n"
     ]
    }
   ],
   "source": [
    "# if Aninhado (if dentro de outro if) para perguntar e fazer novas perguntas \n",
    "\n",
    "respostas = input(\"voce tem interesso no produto\")\n",
    "\n",
    "if respostas ==\"sim\":\n",
    "    print (\"continuar\")\n",
    "    cartao = input (\"voce tem o cartão da loja?\")\n",
    "    if cartao ==\"sim\":\n",
    "        print(\"parcelar até em 12x\")\n",
    "    else:\n",
    "        print(\"paercelar até em 2x\")\n",
    "\n",
    "else:\n",
    "    print (\"Fim do atendimento\")\n",
    "\n"
   ]
  }
 ],
 "metadata": {
  "kernelspec": {
   "display_name": "base",
   "language": "python",
   "name": "python3"
  },
  "language_info": {
   "codemirror_mode": {
    "name": "ipython",
    "version": 3
   },
   "file_extension": ".py",
   "mimetype": "text/x-python",
   "name": "python",
   "nbconvert_exporter": "python",
   "pygments_lexer": "ipython3",
   "version": "3.11.5"
  }
 },
 "nbformat": 4,
 "nbformat_minor": 2
}
