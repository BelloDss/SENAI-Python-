{
 "cells": [
  {
   "cell_type": "code",
   "execution_count": null,
   "metadata": {},
   "outputs": [
    {
     "name": "stdout",
     "output_type": "stream",
     "text": [
      " A soma de n1 + n2 é 1212\n"
     ]
    }
   ],
   "source": [
    "n1 = input(\"Digite o 1º número\")\n",
    "n2 = input(\"Digite o 2º número\")\n",
    "\n",
    "print (f' A soma de n1 + n2 é {n1 + n2}')"
   ]
  },
  {
   "cell_type": "code",
   "execution_count": 2,
   "metadata": {},
   "outputs": [
    {
     "name": "stdout",
     "output_type": "stream",
     "text": [
      "5\n",
      "<class 'int'>\n",
      "<class 'str'>\n",
      "<class 'float'>\n"
     ]
    }
   ],
   "source": [
    "# type() retorna o tipo do dado ( SABER O TIPO DE DADO TIPO SE A VAREVEL ACEITA: NUMERO INT STR OU FLOAT - E CONSULTAR QUALQUER COISA)\n",
    "# ele precisa saber qual tipo de numero, para quantas casas guardar , exempo:\n",
    "\n",
    "print (5)\n",
    "print (type(5))\n",
    "print (type('5'))\n",
    "print (type(5.0))\n",
    "\n",
    "\n",
    "\n"
   ]
  },
  {
   "cell_type": "code",
   "execution_count": 5,
   "metadata": {},
   "outputs": [
    {
     "name": "stdout",
     "output_type": "stream",
     "text": [
      "<class 'str'>\n",
      "<class 'str'>\n"
     ]
    }
   ],
   "source": [
    "#str string É TEXTO TEXTO MATEUS\n",
    "\n",
    "print (type (\"SENAI\"))\n",
    "print (type (\"TDS\") )"
   ]
  },
  {
   "cell_type": "code",
   "execution_count": 6,
   "metadata": {},
   "outputs": [
    {
     "name": "stdout",
     "output_type": "stream",
     "text": [
      "<class 'int'>\n",
      "<class 'int'>\n"
     ]
    }
   ],
   "source": [
    "#int inteiro \n",
    "\n",
    "print (type(24))\n",
    "print (type(7))"
   ]
  },
  {
   "cell_type": "code",
   "execution_count": 7,
   "metadata": {},
   "outputs": [
    {
     "name": "stdout",
     "output_type": "stream",
     "text": [
      "<class 'float'>\n",
      "<class 'float'>\n",
      "<class 'float'>\n"
     ]
    }
   ],
   "source": [
    "#float - numero de ponto flutuante ( por causa do ponto = .)\n",
    "\n",
    "print (type (2.5))\n",
    "print (type (1.99))\n",
    "print (type (1.0))"
   ]
  },
  {
   "cell_type": "code",
   "execution_count": 11,
   "metadata": {},
   "outputs": [
    {
     "name": "stdout",
     "output_type": "stream",
     "text": [
      "<class 'bool'>\n",
      "<class 'bool'>\n"
     ]
    }
   ],
   "source": [
    "# BOOL BOLEANO\n",
    "print (type(True))\n",
    "print (type(False))\n"
   ]
  },
  {
   "cell_type": "code",
   "execution_count": null,
   "metadata": {},
   "outputs": [],
   "source": [
    "n1 = int ('8')\n",
    "n2 = int ('7')\n",
    "\n",
    "print (n1 + n2)"
   ]
  },
  {
   "cell_type": "code",
   "execution_count": null,
   "metadata": {},
   "outputs": [
    {
     "name": "stdout",
     "output_type": "stream",
     "text": [
      " A soma de n1 + n2 é 24\n"
     ]
    }
   ],
   "source": [
    "#1- convertendo o texto para numero com o int antes do input\n",
    "\n",
    "n1 = int(input(\"Digite o 1º número\"))\n",
    "n2 = int(input(\"Digite o 2º número\"))\n",
    "\n",
    "print (f' A soma de n1 + n2 é {n1 + n2}')\n",
    "\n"
   ]
  },
  {
   "cell_type": "code",
   "execution_count": 17,
   "metadata": {},
   "outputs": [
    {
     "name": "stdout",
     "output_type": "stream",
     "text": [
      " A soma de n1 + n2 é 25\n"
     ]
    }
   ],
   "source": [
    "#2- outra meneira de converter srt para int (texto para numero)\n",
    "\n",
    "n1 = (input(\"Digite o 1º número\"))\n",
    "n1 = int(n1) # convetendo para numero \n",
    "n2 = (input(\"Digite o 2º número\"))\n",
    "n2 = int(n2) # convertendo para numero\n",
    "\n",
    "\n",
    "print (f' A soma de n1 + n2 é {n1 + n2}')"
   ]
  },
  {
   "cell_type": "code",
   "execution_count": 18,
   "metadata": {},
   "outputs": [
    {
     "name": "stdout",
     "output_type": "stream",
     "text": [
      " A soma de n1 + n2 é 50\n"
     ]
    }
   ],
   "source": [
    "#3- outra meneira\n",
    "\n",
    "n1 = input(\"Digite o 1º número\")\n",
    "n2 = input(\"Digite o 2º número\")\n",
    "\n",
    "print (f' A soma de n1 + n2 é {int(n1) + int(n2)}') # colando o int no comando print"
   ]
  },
  {
   "cell_type": "code",
   "execution_count": 19,
   "metadata": {},
   "outputs": [
    {
     "name": "stdout",
     "output_type": "stream",
     "text": [
      "<class 'float'>\n"
     ]
    }
   ],
   "source": [
    "#float ()\n",
    "\n",
    "num = \"2.5\"\n",
    "num = float (num)\n",
    "\n",
    "print (type(num))"
   ]
  },
  {
   "cell_type": "code",
   "execution_count": 20,
   "metadata": {},
   "outputs": [
    {
     "name": "stdout",
     "output_type": "stream",
     "text": [
      "<class 'str'>\n"
     ]
    }
   ],
   "source": [
    "# str ()\n",
    "\n",
    "num = 5 \n",
    "num = str (num)\n",
    "\n",
    "print (type (num))"
   ]
  }
 ],
 "metadata": {
  "kernelspec": {
   "display_name": "base",
   "language": "python",
   "name": "python3"
  },
  "language_info": {
   "name": "python",
   "version": "3.11.5"
  }
 },
 "nbformat": 4,
 "nbformat_minor": 2
}
