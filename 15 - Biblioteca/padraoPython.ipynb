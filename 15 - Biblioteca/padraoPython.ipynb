{
 "cells": [
  {
   "cell_type": "code",
   "execution_count": 5,
   "metadata": {},
   "outputs": [],
   "source": [
    "# Bibliotecas\n",
    "\n",
    "import math"
   ]
  },
  {
   "cell_type": "code",
   "execution_count": null,
   "metadata": {},
   "outputs": [],
   "source": [
    "# sqrt - Raiz quadrada\n",
    "\n",
    "print (math.sqrt(9))"
   ]
  },
  {
   "cell_type": "code",
   "execution_count": null,
   "metadata": {},
   "outputs": [],
   "source": [
    "# pow - Potencia\n",
    "\n",
    "print( math.pow(2,2))\n",
    "print( math.pow(2,3))\n",
    "print( math.pow(2,4))"
   ]
  },
  {
   "cell_type": "code",
   "execution_count": null,
   "metadata": {},
   "outputs": [],
   "source": [
    "# floor - Arredonda para baixo\n",
    "\n",
    "print(math.floor(2.9))\n",
    "print(math.floor(2.99))\n",
    "print(math.floor(2.999))\n",
    "print(math.floor(2.9999))"
   ]
  },
  {
   "cell_type": "code",
   "execution_count": 9,
   "metadata": {},
   "outputs": [
    {
     "name": "stdout",
     "output_type": "stream",
     "text": [
      "3\n",
      "3\n",
      "3\n",
      "3\n"
     ]
    }
   ],
   "source": [
    "# ceil - arrendonda pra cima\n",
    "\n",
    "print ( math.ceil(2.1))\n",
    "print ( math.ceil(2.01))\n",
    "print ( math.ceil(2.001))\n",
    "print ( math.ceil(2.0001))"
   ]
  },
  {
   "cell_type": "code",
   "execution_count": null,
   "metadata": {},
   "outputs": [
    {
     "name": "stdout",
     "output_type": "stream",
     "text": [
      "3.141592653589793\n"
     ]
    }
   ],
   "source": [
    "# pi\n",
    "\n",
    "print (math.pi)"
   ]
  },
  {
   "cell_type": "code",
   "execution_count": 6,
   "metadata": {},
   "outputs": [],
   "source": [
    "# Datetime - Manipulação de datas e horas\n",
    "\n",
    "import datetime\n",
    "\n"
   ]
  },
  {
   "cell_type": "code",
   "execution_count": null,
   "metadata": {},
   "outputs": [
    {
     "data": {
      "text/plain": [
       "datetime.datetime(2025, 2, 25, 16, 22, 42, 468798)"
      ]
     },
     "execution_count": 16,
     "metadata": {},
     "output_type": "execute_result"
    }
   ],
   "source": [
    "# now - retorna a hora atual\n",
    "# o horario possui o padrão definido pela ISO\n",
    "# Ano ,Mes, Dia , Hora, Min, Seg, Ms\n",
    "\n",
    "datetime.datetime.now()"
   ]
  },
  {
   "cell_type": "code",
   "execution_count": 17,
   "metadata": {},
   "outputs": [
    {
     "data": {
      "text/plain": [
       "619269"
      ]
     },
     "execution_count": 17,
     "metadata": {},
     "output_type": "execute_result"
    }
   ],
   "source": [
    "# now - retorna a hora atual\n",
    "# o horario possui o padrão definido pela ISO\n",
    "# Ano ,Mes, Dia , Hora, Min, Seg, Ms\n",
    "\n",
    "\n",
    "datetime.datetime.now().year\n",
    "datetime.datetime.now().month\n",
    "datetime.datetime.now().day\n",
    "datetime.datetime.now().hour\n",
    "datetime.datetime.now().minute\n",
    "datetime.datetime.now().second\n",
    "datetime.datetime.now().microsecond"
   ]
  },
  {
   "cell_type": "code",
   "execution_count": 24,
   "metadata": {},
   "outputs": [
    {
     "data": {
      "text/plain": [
       "datetime.datetime(2024, 12, 7, 0, 0)"
      ]
     },
     "execution_count": 24,
     "metadata": {},
     "output_type": "execute_result"
    }
   ],
   "source": [
    "# datetime - Como criar uma data \n",
    "# Ano ,Mes, Dia , Hora, Min, Seg, Ms\n",
    "\n",
    "datetime.datetime(2024,12,7) #07 n funciona\n"
   ]
  },
  {
   "cell_type": "code",
   "execution_count": null,
   "metadata": {},
   "outputs": [],
   "source": [
    "# Com print()\n",
    "print (datetime.datetime(2044,12,7))\n"
   ]
  },
  {
   "cell_type": "code",
   "execution_count": 7,
   "metadata": {},
   "outputs": [
    {
     "name": "stdout",
     "output_type": "stream",
     "text": [
      "6 days, 0:00:00\n",
      "6\n"
     ]
    }
   ],
   "source": [
    "integração = datetime.datetime(2025, 3,3)\n",
    "hoje = datetime.datetime (2025, 2, 25)\n",
    "\n",
    "print (integração - hoje) \n",
    "print ((integração - hoje).days)"
   ]
  },
  {
   "cell_type": "code",
   "execution_count": null,
   "metadata": {},
   "outputs": [
    {
     "name": "stdout",
     "output_type": "stream",
     "text": [
      "2025-02-25 13:56:52.232449\n",
      "2025-02-25 16:56:52.232449\n",
      "2025-02-25 19:56:52.232449\n"
     ]
    }
   ],
   "source": [
    "# Adicionar/ subtrair tempo\n",
    "\n",
    "agora = datetime.datetime.now()\n",
    "\n",
    "# dif hora contem 3 horas\n",
    "dif_hora = datetime.timedelta( hours=3)\n",
    "\n",
    "print(agora - dif_hora)\n",
    "print(agora)\n",
    "print(agora + dif_hora)\n"
   ]
  },
  {
   "cell_type": "code",
   "execution_count": 8,
   "metadata": {},
   "outputs": [
    {
     "data": {
      "text/plain": [
       "datetime.timedelta(seconds=3)"
      ]
     },
     "execution_count": 8,
     "metadata": {},
     "output_type": "execute_result"
    }
   ],
   "source": [
    "# timedelta - Adiciona ou subtraai um intervalo de tempo\n",
    "datetime.timedelta(days=3)\n",
    "datetime.timedelta(weeks=1)\n",
    "datetime.timedelta(hours=3)\n",
    "datetime.timedelta(minutes=3)\n",
    "datetime.timedelta(seconds=3)"
   ]
  },
  {
   "cell_type": "code",
   "execution_count": 10,
   "metadata": {},
   "outputs": [
    {
     "name": "stdout",
     "output_type": "stream",
     "text": [
      "2025-02-26 00:00:00\n",
      "2025-03-05 00:00:00\n"
     ]
    }
   ],
   "source": [
    "hoje = datetime.datetime(2025,2,26)\n",
    "semana = datetime.timedelta(weeks=1)\n",
    "print(hoje)\n",
    "print(hoje + semana)"
   ]
  },
  {
   "cell_type": "code",
   "execution_count": 15,
   "metadata": {},
   "outputs": [
    {
     "name": "stdout",
     "output_type": "stream",
     "text": [
      "2025-02-26 13:46:55.267058\n",
      "26\n",
      "02\n",
      "25\n",
      "2025\n",
      "26/02/2025\n",
      "Hoje é 26 de February de 2025\n"
     ]
    }
   ],
   "source": [
    "# strftime  - Converterde Datetime para string\n",
    "\n",
    "agora = datetime.datetime.now()\n",
    "print(agora)\n",
    "print(agora.strftime(\"%d\")) # Dia\n",
    "print(agora.strftime(\"%m\"))# mes\n",
    "print(agora.strftime(\"%y\"))#Ano abreviado\n",
    "print(agora.strftime(\"%Y\"))#ano\n",
    "print(agora.strftime(\"%d/%m/%Y\"))\n",
    "\n",
    "print (agora.strftime(\"Hoje é %d de %B de %Y\"))#Padrão brasiliero"
   ]
  },
  {
   "cell_type": "code",
   "execution_count": 27,
   "metadata": {},
   "outputs": [
    {
     "name": "stdout",
     "output_type": "stream",
     "text": [
      "2025-02-26 00:00:00\n",
      "2025-02-26 00:00:00\n",
      "2025-03-03 08:00:00\n"
     ]
    }
   ],
   "source": [
    "# STRPTIME - CONVERTER SUA STRINF PARA datetime\n",
    "\n",
    "hoje = \"26/02/2025\"\n",
    "integracao = \"A integração será 03/03/2025 as 08 horas\"\n",
    "\n",
    "# strptime(String, Formato da data)\n",
    "print (datetime.datetime.strptime(hoje, \"%d/%m/%Y\"))\n",
    "print (datetime.datetime.strptime(\"hoje é dia 26 do 02 de 2025\", \"Hoje é dia %d do %m de %Y\"))\n",
    "print (datetime.datetime.strptime(integracao, \"A integração será %d/%m/%Y as %H horas\"))"
   ]
  },
  {
   "cell_type": "code",
   "execution_count": 36,
   "metadata": {},
   "outputs": [
    {
     "name": "stdout",
     "output_type": "stream",
     "text": [
      "Hoje é 26 de fevereiro de fevereiro de 2025\n",
      "Hoje é quarta-feira\n",
      "Hoje é 26 de February de February de 2025\n",
      "Hoje é Wednesday\n"
     ]
    }
   ],
   "source": [
    "import locale \n",
    "\n",
    "agora = datetime.datetime.now()\n",
    "\n",
    "# Em portgues \n",
    "locale.setlocale(locale.LC_ALL, 'pt_BR')\n",
    "print(agora.strftime('Hoje é %d de %B de %B de %Y'))\n",
    "print(agora.strftime(\"Hoje é %A\"))\n",
    "\n",
    "\n",
    "# MUDAR PARA O IDIOMA AMERICANO \n",
    "locale.setlocale(locale.LC_ALL, 'en_US')\n",
    "print(agora.strftime('Hoje é %d de %B de %B de %Y'))\n",
    "print(agora.strftime(\"Hoje é %A\"))\n",
    "\n"
   ]
  }
 ],
 "metadata": {
  "kernelspec": {
   "display_name": "base",
   "language": "python",
   "name": "python3"
  },
  "language_info": {
   "codemirror_mode": {
    "name": "ipython",
    "version": 3
   },
   "file_extension": ".py",
   "mimetype": "text/x-python",
   "name": "python",
   "nbconvert_exporter": "python",
   "pygments_lexer": "ipython3",
   "version": "3.11.5"
  }
 },
 "nbformat": 4,
 "nbformat_minor": 2
}
