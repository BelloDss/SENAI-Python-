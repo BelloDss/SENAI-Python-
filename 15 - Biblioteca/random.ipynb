{
 "cells": [
  {
   "cell_type": "code",
   "execution_count": 3,
   "metadata": {},
   "outputs": [],
   "source": [
    "# Gera um numero pseudo-aletorio\n",
    "\n",
    "import random\n",
    "\n",
    "\n"
   ]
  },
  {
   "cell_type": "code",
   "execution_count": 6,
   "metadata": {},
   "outputs": [
    {
     "name": "stdout",
     "output_type": "stream",
     "text": [
      "0.0863853635796068\n",
      "0.33597190314411185\n",
      "0.557130108594887\n",
      "0.37726107549922927\n",
      "0.4352042911091486\n"
     ]
    }
   ],
   "source": [
    "# random() - Gera um valor entre 0.000000 a 1.0\n",
    "\n",
    "\n",
    "print( random.random())\n",
    "print( random.random())\n",
    "print( random.random())\n",
    "print( random.random())\n",
    "print( random.random())"
   ]
  },
  {
   "cell_type": "code",
   "execution_count": 63,
   "metadata": {},
   "outputs": [
    {
     "name": "stdout",
     "output_type": "stream",
     "text": [
      "7\n",
      "3\n",
      "11\n"
     ]
    }
   ],
   "source": [
    "# randint() - Gera um número inteiro aleatorio\n",
    "\n",
    "print( random.randint(1,11))\n",
    "print( random.randint(1,11))\n",
    "print( random.randint(1,11))"
   ]
  },
  {
   "cell_type": "code",
   "execution_count": null,
   "metadata": {},
   "outputs": [
    {
     "name": "stdout",
     "output_type": "stream",
     "text": [
      "5.215190145253442\n",
      "2.4262054759798826\n",
      "5.224618049810891\n"
     ]
    }
   ],
   "source": [
    "# uniform() - Gera um numero de ponto flutuante aleatório - float \n",
    "\n",
    "print ( random.uniform(0,10))\n",
    "print ( random.uniform(0,10))\n",
    "print ( random.uniform(0,10))"
   ]
  },
  {
   "cell_type": "code",
   "execution_count": 89,
   "metadata": {},
   "outputs": [
    {
     "name": "stdout",
     "output_type": "stream",
     "text": [
      "Jefs\n",
      "Alex\n",
      "Jefs\n"
     ]
    }
   ],
   "source": [
    "# choice() - Sorteia um valor de uma lista aleatoriamente \n",
    "nome = ['Bello','Guilherme','Alex','Jefs']\n",
    "\n",
    "print (random.choice (nome))\n",
    "print (random.choice (nome))\n",
    "print (random.choice (nome))"
   ]
  },
  {
   "cell_type": "code",
   "execution_count": null,
   "metadata": {},
   "outputs": [],
   "source": [
    "# random() - Gera um valor entre 0.000 a 1.000\n",
    "print (random.random())\n",
    "\n",
    "# unifomr() - Gera um valor aleatorio entre o intervalo informado\n"
   ]
  }
 ],
 "metadata": {
  "kernelspec": {
   "display_name": "base",
   "language": "python",
   "name": "python3"
  },
  "language_info": {
   "codemirror_mode": {
    "name": "ipython",
    "version": 3
   },
   "file_extension": ".py",
   "mimetype": "text/x-python",
   "name": "python",
   "nbconvert_exporter": "python",
   "pygments_lexer": "ipython3",
   "version": "3.11.5"
  }
 },
 "nbformat": 4,
 "nbformat_minor": 2
}
