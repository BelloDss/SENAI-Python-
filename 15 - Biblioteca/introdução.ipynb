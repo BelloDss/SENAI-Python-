{
 "cells": [
  {
   "cell_type": "code",
   "execution_count": null,
   "metadata": {},
   "outputs": [],
   "source": [
    "# PODE USAR A VARIAVEL DE QUALQUER BLOCO EM OUTRO LUGAR (PRECISA ESTAR EM CIMA)"
   ]
  },
  {
   "cell_type": "code",
   "execution_count": null,
   "metadata": {},
   "outputs": [
    {
     "name": "stdout",
     "output_type": "stream",
     "text": [
      "11\n",
      "8\n",
      "Seja bem vindo Bello\n"
     ]
    }
   ],
   "source": [
    "# todas as bibliotecas importadas devem estar nas primeiras linhas  \n",
    "\n",
    "import Biblioteca \n",
    "\n",
    "print (Biblioteca.soma(6,5))\n",
    "print (Biblioteca.dobro(4))\n",
    "print (Biblioteca.saudacao(\"Bello\"))"
   ]
  },
  {
   "cell_type": "code",
   "execution_count": null,
   "metadata": {},
   "outputs": [],
   "source": [
    "# Apelido para Biblioteca - Alias \n",
    "\n",
    "import Biblioteca as mb\n",
    "\n",
    "print (mb.soma(6,5))\n",
    "print (mb.dobro(4))\n",
    "print (mb.saudacao(\"Bello\"))"
   ]
  },
  {
   "cell_type": "code",
   "execution_count": null,
   "metadata": {},
   "outputs": [
    {
     "name": "stdout",
     "output_type": "stream",
     "text": [
      "11\n",
      "11\n",
      "8\n"
     ]
    }
   ],
   "source": [
    "# Codigo fracionado - FROM E IMPORT\n",
    "\n",
    "from Biblioteca import soma\n",
    "\n",
    "print (soma(6,5))\n",
    "\n",
    "# Codigo fracionado - Caso queira usar mais de uma função separar por virgula(soma,dobro)\n",
    "\n",
    "from Biblioteca import soma,dobro\n",
    "\n",
    "print (soma(6,5))\n",
    "print (dobro (4))\n",
    "\n"
   ]
  }
 ],
 "metadata": {
  "kernelspec": {
   "display_name": "base",
   "language": "python",
   "name": "python3"
  },
  "language_info": {
   "codemirror_mode": {
    "name": "ipython",
    "version": 3
   },
   "file_extension": ".py",
   "mimetype": "text/x-python",
   "name": "python",
   "nbconvert_exporter": "python",
   "pygments_lexer": "ipython3",
   "version": "3.11.5"
  }
 },
 "nbformat": 4,
 "nbformat_minor": 2
}
