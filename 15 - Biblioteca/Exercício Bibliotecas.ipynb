{
 "cells": [
  {
   "cell_type": "markdown",
   "id": "6ded908c-5252-4da7-be8a-690aa38710e2",
   "metadata": {},
   "source": [
    "# <font color='OrangeRed'><center>Exercícios - Bibliotecas</center></font>"
   ]
  },
  {
   "cell_type": "markdown",
   "id": "5652f20f-e871-4138-a2d7-981c1c1ccff0",
   "metadata": {},
   "source": [
    "### Biblitecas importadas:"
   ]
  },
  {
   "cell_type": "code",
   "execution_count": 2,
   "id": "dfd2687b-1b3d-4b31-bc8b-cd47a3c1ff13",
   "metadata": {},
   "outputs": [],
   "source": [
    "# Importe aqui suas bibliotecas (Opcional)\n",
    "\n",
    "import math\n",
    "import datetime\n",
    "import random\n",
    "import locale\n"
   ]
  },
  {
   "cell_type": "markdown",
   "id": "587fba16-6406-4fe6-916d-2f3690b1b30f",
   "metadata": {},
   "source": [
    "---"
   ]
  },
  {
   "cell_type": "markdown",
   "id": "bfeeb3d9-0fa0-452e-84cd-6de7003c079a",
   "metadata": {},
   "source": [
    "### Exercício 01\n",
    "\n",
    "Utilizando a biblioteca **math**, crie um algoritmo que receba dois números como argumento e que retorne um número elevado a um expoente"
   ]
  },
  {
   "cell_type": "code",
   "execution_count": 3,
   "id": "77c981f9-fe73-437d-a8f8-fc5915fe5b1d",
   "metadata": {},
   "outputs": [
    {
     "name": "stdout",
     "output_type": "stream",
     "text": [
      "8916100448256.0\n"
     ]
    }
   ],
   "source": [
    "var = int (input(\"Fale um numero\"))\n",
    "var1 = int (input(\"Fale um numero\"))\n",
    "\n",
    "print (math.pow(var,var1))"
   ]
  },
  {
   "cell_type": "markdown",
   "id": "88c748b0-fd02-4cf0-b079-95dfe264594a",
   "metadata": {
    "tags": []
   },
   "source": [
    "---"
   ]
  },
  {
   "cell_type": "markdown",
   "id": "df7ecfe2-1a1f-412b-ad03-75915352eec8",
   "metadata": {},
   "source": [
    "### Exercício 02\n",
    "\n",
    "Utilizando a biblioteca **math**, crie um algoritmo que receba um número como argumento e que retorne a raiz quadadra de um número"
   ]
  },
  {
   "cell_type": "code",
   "execution_count": null,
   "id": "89f061a9-e7a6-43ef-9ca2-d32491d103db",
   "metadata": {},
   "outputs": [
    {
     "name": "stdout",
     "output_type": "stream",
     "text": [
      "3\n",
      "3.4641016151377544\n"
     ]
    }
   ],
   "source": [
    "var = int(input(\"Infome um numero\"))\n",
    "\n",
    "print (round(math.sqrt(var)))\n",
    "\n",
    "print (math.sqrt(var))\n",
    "\n",
    "\n"
   ]
  },
  {
   "cell_type": "markdown",
   "id": "a253c8ca-c740-47db-92b2-48fa2c7bcc81",
   "metadata": {
    "tags": []
   },
   "source": [
    "---"
   ]
  },
  {
   "cell_type": "markdown",
   "id": "06650806-2974-4c6e-ac14-805859bd6fc7",
   "metadata": {},
   "source": [
    "### Exercício 03\n",
    "\n",
    "Utilizando a biblioteca **math**, escreva um programa que receba a medida do raio de uma circunferência e que em seguida imprima o comprimento da circunferência.\n",
    "\n",
    "**_Formúla:_**<br>\n",
    "_Comprimento = 2 * PI * Raio_"
   ]
  },
  {
   "cell_type": "code",
   "execution_count": 12,
   "id": "4e41835f-f880-4521-9fe2-188177f09d50",
   "metadata": {},
   "outputs": [
    {
     "name": "stdout",
     "output_type": "stream",
     "text": [
      "75.39822368615503\n",
      "\n",
      "75\n"
     ]
    }
   ],
   "source": [
    "vari = int (input(\"Informe a medida do raio de uma circunferencia\"))\n",
    "\n",
    "print(math.pi*2*vari)\n",
    "print()\n",
    "print (round(math.pi*2*vari))\n",
    "\n"
   ]
  },
  {
   "cell_type": "markdown",
   "id": "43032d11-d7a7-4567-96ac-aaff30b29f57",
   "metadata": {
    "tags": []
   },
   "source": [
    "---"
   ]
  },
  {
   "cell_type": "markdown",
   "id": "67ff50ce-7ada-489b-8c47-a622f088e5d4",
   "metadata": {},
   "source": [
    "### Exercício 04\n",
    "\n",
    "Crie uma lista com cinco nomes e em seguida, utilizando a biblioteca **random**, use um método para retornar um nome aleatório da lista."
   ]
  },
  {
   "cell_type": "code",
   "execution_count": 15,
   "id": "782a2296-864d-4116-a3bc-eac28f392cfb",
   "metadata": {},
   "outputs": [
    {
     "name": "stdout",
     "output_type": "stream",
     "text": [
      "Bello\n"
     ]
    }
   ],
   "source": [
    "name = ['Matheus','Henrique','Bello','Sonia','Bello']\n",
    "\n",
    "print (random.choice(name))"
   ]
  },
  {
   "cell_type": "markdown",
   "id": "caf2c150-8b20-4583-b45f-24f0cc32dcad",
   "metadata": {
    "tags": []
   },
   "source": [
    "---"
   ]
  },
  {
   "cell_type": "markdown",
   "id": "53dd578c-7233-41b9-bd5c-1433be9c9118",
   "metadata": {},
   "source": [
    "### Exercício 05\n",
    "\n",
    "Utilizando a biblioteca **random**, crie uma variável e atribula a ela um número inteiro aleatório entre 1 a 5, em seguida peça para o usuário digitar um número e crie a condição abaixo:\n",
    "\n",
    "* Se o número aleatório for igual ao número digitado, então retorne 'Parabéns, você acertou!'\n",
    "* Senão retorne 'Você errou, tente novamente.'"
   ]
  },
  {
   "cell_type": "code",
   "execution_count": 49,
   "id": "670c01b1-9712-4b15-8142-f056eeed78cb",
   "metadata": {},
   "outputs": [
    {
     "name": "stdout",
     "output_type": "stream",
     "text": [
      "2\n",
      "BOA PAU MOLE!!\n"
     ]
    }
   ],
   "source": [
    "\n",
    "nums = random.randint(1,5)\n",
    "print(nums)\n",
    "pedri = int(input(\"Escreva um numero\"))\n",
    "\n",
    "if nums == pedri:\n",
    "    print(\"BOA PAU MOLE!!\")\n",
    "else:\n",
    "    print(\"NEGATIVOOOO\")"
   ]
  },
  {
   "cell_type": "markdown",
   "id": "decf708c-40a0-449f-b198-0e605e293604",
   "metadata": {},
   "source": [
    "---"
   ]
  },
  {
   "cell_type": "markdown",
   "id": "f05862c2-aea9-4fa0-b731-5b550e6e8036",
   "metadata": {},
   "source": [
    "### Exercício 06\n",
    "\n",
    "Peça para o usuário informar o salário dele e em seguida, utilizando a biblioteca **random**, use um método que retorne um número de ponto fluante entre 0.10 a 0.20.\n",
    "\n",
    "Imprima o valor do salário + (10% a 20%) gerado pela biblioteca"
   ]
  },
  {
   "cell_type": "code",
   "execution_count": 54,
   "id": "bd6da05b-be2f-4ac8-b424-a8a1af67be04",
   "metadata": {},
   "outputs": [
    {
     "name": "stdout",
     "output_type": "stream",
     "text": [
      "o ajuste do seu salário é: 1991.31\n"
     ]
    }
   ],
   "source": [
    "\n",
    "sal = float(input(\"Informe o salario\"))\n",
    "ajuste = random.uniform(0.10,0.20)\n",
    "red = ajuste*sal+ sal\n",
    "\n",
    "print(f\"o ajuste do seu salário é: {red:.2f}\")\n",
    "\n",
    "\n"
   ]
  },
  {
   "cell_type": "markdown",
   "id": "d6f36074-667c-4c81-8113-9cdc636f21ef",
   "metadata": {},
   "source": [
    "---"
   ]
  },
  {
   "cell_type": "markdown",
   "id": "cff309da-216f-4c0f-9da0-24f99481ffc0",
   "metadata": {},
   "source": [
    "### Exercício 07\n",
    "\n",
    "Utilizando a biblioteca **datetime**, conveta os 3 textos abaixo para o tipo data"
   ]
  },
  {
   "cell_type": "code",
   "execution_count": 8,
   "id": "4de9e319-f2a5-4d24-a8df-3fe533635716",
   "metadata": {},
   "outputs": [
    {
     "name": "stdout",
     "output_type": "stream",
     "text": [
      "2000-12-20 00:00:00\n",
      "2000-12-20 00:00:00\n",
      "2000-12-20 00:00:00\n"
     ]
    }
   ],
   "source": [
    "formato_brasil = '20/12/2000'\n",
    "formato_eua = '12/20/2000'\n",
    "formato_iso = '2000-12-20'\n",
    "\n",
    "print (datetime.datetime.strptime(formato_brasil, \"%d/%m/%Y\"))\n",
    "print (datetime.datetime.strptime(formato_eua, \"%m/%d/%Y\"))\n",
    "print (datetime.datetime.strptime(formato_iso, \"%Y-%m-%d\"))\n",
    "\n"
   ]
  },
  {
   "cell_type": "markdown",
   "id": "59743d2c-6ddb-4f09-9d54-f872e24814fa",
   "metadata": {},
   "source": [
    "---"
   ]
  },
  {
   "cell_type": "markdown",
   "id": "801342a5-189f-4fbd-b57b-71fbca814401",
   "metadata": {
    "tags": []
   },
   "source": [
    "### Exercício 08\n",
    "\n",
    "Utilizando a biblioteca **datetime**, retorne quantos dias faltam para o data 01/01/2025."
   ]
  },
  {
   "cell_type": "code",
   "execution_count": 10,
   "id": "f407c950-2649-441c-a9ee-73a07beb72a5",
   "metadata": {},
   "outputs": [
    {
     "name": "stdout",
     "output_type": "stream",
     "text": [
      "Tempo restantes para o ano novo são: 307 dias\n"
     ]
    }
   ],
   "source": [
    "data1 = datetime.datetime(2026,1,1)\n",
    "hoje = datetime.datetime.now()\n",
    "\n",
    "dias_restantes = (data1 - hoje).days\n",
    "\n",
    "print(f\"Tempo restantes para o ano novo são: {dias_restantes} dias\")\n",
    "\n"
   ]
  },
  {
   "cell_type": "markdown",
   "id": "7689de3f-73f0-4937-925b-5ccfe6903f8f",
   "metadata": {},
   "source": [
    "---"
   ]
  },
  {
   "cell_type": "markdown",
   "id": "e01e520c-3bcc-439f-84e0-1042df23ff8f",
   "metadata": {
    "tags": []
   },
   "source": [
    "### Exercício 09\n",
    "\n",
    "Utilizando a biblioteca **datetime**, peça para o usuário informar um número inteiro e em seguida retorne a data de hoje + o valor informado em dias, exemplo:\n",
    "\n",
    "**Entrada:**  \n",
    "_5_\n",
    "\n",
    "**Saída:**  \n",
    "_01/01/2024 + 5 = 06/01/2024_"
   ]
  },
  {
   "cell_type": "code",
   "execution_count": 4,
   "id": "5bae6a90-9c41-4e99-9b44-12327ca4678a",
   "metadata": {},
   "outputs": [
    {
     "name": "stdout",
     "output_type": "stream",
     "text": [
      "01/03/2025  14:12:15\n"
     ]
    }
   ],
   "source": [
    "n = int (input(\"Digite um numero: \"))\n",
    "agora = datetime.datetime.now()\n",
    "\n",
    "dif_dia = datetime.timedelta(days=n)\n",
    "\n",
    "nova_data = agora + dif_dia\n",
    "\n",
    "print (nova_data.strftime(\"%d/%m/%Y  %H:%M:%S\"))\n"
   ]
  },
  {
   "cell_type": "markdown",
   "id": "d1cf2104-d450-433c-b5aa-f8e4f9416ddf",
   "metadata": {},
   "source": [
    "---"
   ]
  },
  {
   "cell_type": "markdown",
   "id": "c8c7e24b-6273-46e8-ab1c-201cc7576cf3",
   "metadata": {},
   "source": [
    "### Exercício 10\n",
    "\n",
    "Utilizando a biblioteca **datetime**, converta a data abaixo no formato do brasil\n",
    "\n",
    "**Formato do Brasil:**  \n",
    "_DD/MM/YYYY_  "
   ]
  },
  {
   "cell_type": "code",
   "execution_count": 6,
   "id": "739f08c7-33d9-44d9-85db-dbf36f149488",
   "metadata": {},
   "outputs": [
    {
     "name": "stdout",
     "output_type": "stream",
     "text": [
      "01/01/2024\n",
      "01/01/2024\n"
     ]
    }
   ],
   "source": [
    "data = datetime.datetime(2024, 1, 1)\n",
    "\n",
    "print (datetime.datetime.strftime(data, \"%d/%m/%Y\"))\n",
    "print (data.strftime (\"%d/%m/%Y\"))"
   ]
  },
  {
   "cell_type": "markdown",
   "id": "d4112d19-2155-4eb5-bc4b-1d534b6f860a",
   "metadata": {},
   "source": [
    "---"
   ]
  },
  {
   "cell_type": "markdown",
   "id": "d0b104f3-9803-4c2a-97d2-3578119d54e8",
   "metadata": {},
   "source": [
    "### Exercício 11\n",
    "\n",
    "Utilizando a biblioteca **math**, use um método para imprimir cada um dos números da lista abaixo arredondado para baixo"
   ]
  },
  {
   "cell_type": "code",
   "execution_count": null,
   "id": "15c112d4-36af-4607-b5f0-5c9e5052581f",
   "metadata": {},
   "outputs": [
    {
     "name": "stdout",
     "output_type": "stream",
     "text": [
      "4\n",
      "77\n",
      "21\n",
      "8\n",
      "5\n"
     ]
    }
   ],
   "source": [
    "lista = [4.15, 77.55, 21.1, 8.006, 5.97]\n",
    "\n",
    "print (math.floor (lista[0]))\n",
    "print (math.floor (lista[1]))\n",
    "print (math.floor (lista[2]))\n",
    "print (math.floor (lista[3]))\n",
    "print (math.floor (lista[4]))\n",
    "print (math.floor (lista[5]))\n",
    "\n",
    "# OUTRA FORMA\n",
    "\n",
    "for valor in lista:\n",
    "    print (math.floor(valor))"
   ]
  },
  {
   "cell_type": "markdown",
   "id": "4b883696-4bbc-4595-a0a3-9c9a227a20a6",
   "metadata": {},
   "source": [
    "---"
   ]
  },
  {
   "cell_type": "markdown",
   "id": "168cf493-a245-4755-a425-19cf0e7cea2b",
   "metadata": {},
   "source": [
    "### Exercício 12\n",
    "\n",
    "Utilizando a biblioteca **math**, use um método para imprimir cada um dos números da lista abaixo arredondado para cima"
   ]
  },
  {
   "cell_type": "code",
   "execution_count": null,
   "id": "96b64391-f155-49a4-b6ef-6ac513c59704",
   "metadata": {},
   "outputs": [],
   "source": [
    "lista = [7.85, 9.445, 22.561, 3.416, 6.71]\n",
    "\n",
    "# list comprehension\n",
    "lista2 = [math.ceil(num) for num in lista]\n",
    "\n",
    "print (lista2)\n"
   ]
  },
  {
   "cell_type": "markdown",
   "id": "5a673cd5-377c-432c-8b2b-2107f2863c55",
   "metadata": {},
   "source": [
    "---"
   ]
  }
 ],
 "metadata": {
  "kernelspec": {
   "display_name": "base",
   "language": "python",
   "name": "python3"
  },
  "language_info": {
   "codemirror_mode": {
    "name": "ipython",
    "version": 3
   },
   "file_extension": ".py",
   "mimetype": "text/x-python",
   "name": "python",
   "nbconvert_exporter": "python",
   "pygments_lexer": "ipython3",
   "version": "3.11.5"
  }
 },
 "nbformat": 4,
 "nbformat_minor": 5
}
