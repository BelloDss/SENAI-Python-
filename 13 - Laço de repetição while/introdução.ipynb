{
 "cells": [
  {
   "cell_type": "code",
   "execution_count": null,
   "metadata": {},
   "outputs": [],
   "source": [
    "# estrutura de repetiç\n",
    "# \n",
    "# \n",
    "# ão\n",
    "\n",
    "for n in [1,2,3,4,5,]:\n",
    "    print (n*2)"
   ]
  },
  {
   "cell_type": "code",
   "execution_count": null,
   "metadata": {},
   "outputs": [],
   "source": [
    "# ESTRUTURA DE REPETIIÇÃO WHILE\n",
    "\n",
    "senha = input (\"Digite a senha secreta\")\n",
    "\n",
    "while senha != \"1234\":\n",
    "    print(\"Senha incorreta!\")\n",
    "    senha = input (\"Digite a senha secreta\")\n",
    "\n",
    "''\n",
    "    "
   ]
  },
  {
   "cell_type": "code",
   "execution_count": null,
   "metadata": {},
   "outputs": [],
   "source": [
    "# while com contador / acumulador | CUIDADO COM LOOPS INFINITO\n",
    "\n",
    "acumulador = 0\n",
    "\n",
    "while acumulador < 10:\n",
    "    print(f\"Acumulador: {acumulador}\")\n",
    "\n",
    "    acumulador = acumulador + 1\n",
    "\n",
    "print(\"Fim\")"
   ]
  },
  {
   "cell_type": "code",
   "execution_count": null,
   "metadata": {},
   "outputs": [],
   "source": [
    "# while iniciando com false\n",
    "\n",
    "acumulador = 6\n",
    "\n",
    "while acumulador < 5:\n",
    "    print(f\"Acumulador: {acumulador}\")\n",
    "\n",
    "    acumulador = acumulador + 1\n",
    "\n",
    "print(\"Fim\")"
   ]
  },
  {
   "cell_type": "code",
   "execution_count": null,
   "metadata": {},
   "outputs": [],
   "source": [
    "# CUIDADO COM LOOPS INFINITOS\n",
    "\n",
    "acumulador = 0\n",
    "\n",
    "while acumulador < 5:\n",
    "    print(f\"Acumulador: {acumulador}\")\n",
    "\n",
    "    acumulador = acumulador + 1\n",
    "\n",
    "print(\"Fim\")"
   ]
  },
  {
   "cell_type": "code",
   "execution_count": 1,
   "metadata": {},
   "outputs": [
    {
     "name": "stdout",
     "output_type": "stream",
     "text": [
      "Acumulador: 1\n",
      "Fim\n",
      "Acumulador: 2\n",
      "Fim\n",
      "Acumulador: 3\n",
      "Fim\n",
      "Acumulador: 4\n",
      "Fim\n",
      "Acumulador: 5\n"
     ]
    }
   ],
   "source": [
    "# a instrução break pode \n",
    "# parar estruturas de repetição e estruturas codicionais\n",
    "\n",
    "acumulador = 1 \n",
    "\n",
    "while acumulador <= 10:\n",
    "    print(f\"Acumulador: {acumulador}\")\n",
    "\n",
    "    if acumulador == 5:\n",
    "        break\n",
    "\n",
    "    acumulador = acumulador + 1\n",
    "\n",
    "    print (\"Fim\")\n",
    "\n",
    "\n"
   ]
  },
  {
   "cell_type": "code",
   "execution_count": null,
   "metadata": {},
   "outputs": [],
   "source": [
    "# while e switch - mais usamos o break  \n",
    "\n",
    "print(1)\n",
    "print(2)\n",
    "print(3)\n",
    "break \n",
    "print(4)\n",
    "print(5)\n",
    "print(6)\n",
    "print(7)"
   ]
  },
  {
   "cell_type": "code",
   "execution_count": null,
   "metadata": {},
   "outputs": [],
   "source": [
    "#Limitar tentativas\n",
    "\n",
    "erro = 0\n",
    "senha = input (\"Digite a senha secreta\")\n",
    "\n",
    "while senha != \"123\":\n",
    "\n",
    "    if erro == 3:\n",
    "        print(\"Usuario bloqueado, contato o ADM\")\n",
    "        break\n",
    "\n",
    "    else:\n",
    "\n",
    "     erro = erro + 1\n",
    "\n",
    "     print(\"Senha incorreta!\")\n",
    "     sneha = input (\"Digite a senha secreta\")\n"
   ]
  },
  {
   "cell_type": "code",
   "execution_count": null,
   "metadata": {},
   "outputs": [],
   "source": [
    "# Criar loop infinito \n",
    "\n",
    "while False:\n",
    "    print(\"infinito\")"
   ]
  },
  {
   "cell_type": "code",
   "execution_count": null,
   "metadata": {},
   "outputs": [],
   "source": [
    "# Criar loop infinito - TRUE\n",
    "\n",
    "while True:\n",
    "    print(\"infinito\")"
   ]
  },
  {
   "cell_type": "code",
   "execution_count": null,
   "metadata": {},
   "outputs": [],
   "source": [
    "# Criar loop infinito \n",
    "\n",
    "while True:\n",
    "    senha = input (\"Digite a senha secreta: \")\n",
    "    if senha ==\"123\":\n",
    "        break\n"
   ]
  },
  {
   "cell_type": "code",
   "execution_count": 11,
   "metadata": {},
   "outputs": [
    {
     "name": "stdout",
     "output_type": "stream",
     "text": [
      "Acumulaodr:  1\n",
      "Acumulaodr:  2\n",
      "Acumulaodr:  3\n",
      "Acumulaodr:  4\n",
      "Acumulaodr:  5\n"
     ]
    }
   ],
   "source": [
    "acumulador = 1\n",
    "\n",
    "while True:\n",
    "    print(\"Acumulaodr: \", acumulador)\n",
    "\n",
    "    if acumulador == 5:\n",
    "        break\n",
    "\n",
    "    acumulador = acumulador + 1"
   ]
  }
 ],
 "metadata": {
  "kernelspec": {
   "display_name": "base",
   "language": "python",
   "name": "python3"
  },
  "language_info": {
   "codemirror_mode": {
    "name": "ipython",
    "version": 3
   },
   "file_extension": ".py",
   "mimetype": "text/x-python",
   "name": "python",
   "nbconvert_exporter": "python",
   "pygments_lexer": "ipython3",
   "version": "3.11.5"
  }
 },
 "nbformat": 4,
 "nbformat_minor": 2
}
