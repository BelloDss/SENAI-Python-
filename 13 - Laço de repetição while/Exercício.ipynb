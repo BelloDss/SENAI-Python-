{
 "cells": [
  {
   "cell_type": "markdown",
   "id": "a55a1c33-9a5a-4214-b4fb-567fc561fa60",
   "metadata": {},
   "source": [
    "# <font color='OrangeRed'><center>Exercícios - Laço de repetição While</center></font>"
   ]
  },
  {
   "cell_type": "markdown",
   "id": "a7afefee-53de-44b4-b9b5-4572861f6960",
   "metadata": {},
   "source": [
    "### Exercício 01\n",
    "\n",
    "Crie uma variável e atribua a ela o valor 10, utilizando a instrução while crie um programa onde a cada iteração do loop seja incrementando +1 a variável, enquanto o valor da variável for menor ou igual a 20 continue executando."
   ]
  },
  {
   "cell_type": "code",
   "execution_count": 12,
   "id": "0a96d5a9-a863-4790-b8c3-0e4c2ba925b2",
   "metadata": {},
   "outputs": [
    {
     "name": "stdout",
     "output_type": "stream",
     "text": [
      "11\n",
      "12\n",
      "13\n",
      "14\n",
      "15\n",
      "16\n",
      "17\n",
      "18\n",
      "19\n",
      "20\n"
     ]
    }
   ],
   "source": [
    "acumulador = 10\n",
    "\n",
    "while acumulador < 20:\n",
    "    acumulador += 1\n",
    "    print(acumulador)"
   ]
  },
  {
   "cell_type": "markdown",
   "id": "e50652d8-3a09-4046-b286-e6cd4b2c0b32",
   "metadata": {},
   "source": [
    "---"
   ]
  },
  {
   "cell_type": "markdown",
   "id": "2fd35e37-3b7e-49f2-acbe-c818da01e2d9",
   "metadata": {},
   "source": [
    "### Exercício 02\n",
    "\n",
    "Utilizando a instrução while, crie um programa que pergunte ao usuário se ele deseja continuar no loop, enquanto o usuário não digitar a palavra 'não' continue executando o loop."
   ]
  },
  {
   "cell_type": "markdown",
   "id": "e620440b-cc5e-405f-99af-95232020dac2",
   "metadata": {},
   "source": [
    "---"
   ]
  },
  {
   "cell_type": "code",
   "execution_count": null,
   "id": "b99df078",
   "metadata": {},
   "outputs": [],
   "source": [
    "while True:\n",
    "\n",
    "    felipe = input (\"Deseja continuar no loop?\")\n",
    "    if felipe == \"NÃO\":\n",
    "        print(\"BOA\")\n",
    "        break\n",
    "    else:\n",
    "        print(\"FALA NÃO \")\n",
    "\n",
    "    "
   ]
  },
  {
   "cell_type": "markdown",
   "id": "9bafa94b-0f3a-48c8-9ee2-40aba2a10143",
   "metadata": {},
   "source": [
    "### Exercício 03\n",
    "\n",
    "Crie uma variável e atribua a ela o valor 0, utilizando a instrução while crie um programa onde a cada iteração seja incrementando +5 a variável, enquanto o valor da variável for menor ou igual a 50 continue executando."
   ]
  },
  {
   "cell_type": "code",
   "execution_count": 13,
   "id": "63793dfc-e3a1-4f25-9764-e0d2b9730946",
   "metadata": {},
   "outputs": [
    {
     "name": "stdout",
     "output_type": "stream",
     "text": [
      "25\n",
      "30\n",
      "35\n",
      "40\n",
      "45\n",
      "50\n",
      "55\n"
     ]
    }
   ],
   "source": [
    "valor = 0 \n",
    "\n",
    "while acumulador <= 50:\n",
    "    acumulador +=5\n",
    "    print(acumulador)"
   ]
  },
  {
   "cell_type": "markdown",
   "id": "5a0d5e75-16d6-4513-964c-62ca1e32b479",
   "metadata": {},
   "source": [
    "---"
   ]
  },
  {
   "cell_type": "markdown",
   "id": "9a1da876-a633-43d1-9d71-3d9335a6e0ed",
   "metadata": {},
   "source": [
    "### Exercício 04\n",
    "\n",
    "Utilizando a instrução while, crie um programa que peça para o usuário digitar uma **vogal** e enquanto o usuário não digitar uma vogal continue executando o código."
   ]
  },
  {
   "cell_type": "code",
   "execution_count": 2,
   "id": "184e174b-3ef0-414c-901f-4c1f447cb770",
   "metadata": {},
   "outputs": [
    {
     "name": "stdout",
     "output_type": "stream",
     "text": [
      "BOA AMIGAO\n"
     ]
    }
   ],
   "source": [
    "\n",
    "while True:\n",
    "    vogal = input (\"Digite uma Vogal\")\n",
    "    if vogal in \"A,E,I,O,U,AO\":\n",
    "       print(\"BOA AMIGAO\") \n",
    "       break\n",
    "    else:\n",
    "        print(\"NÃO SABE AS VOGAIS AMIGAO?\")\n"
   ]
  },
  {
   "cell_type": "markdown",
   "id": "a6deec0a-e737-4a96-9d15-76fbc5216253",
   "metadata": {},
   "source": [
    "---"
   ]
  },
  {
   "cell_type": "markdown",
   "id": "2f31bd8e-f02e-4630-a7f4-2c296ea6a2c4",
   "metadata": {},
   "source": [
    "### Exercício 05\n",
    "\n",
    "Utilizando a instrução while, crie um programa que peça para o usuário inserir um número inteiro e enquanto o usuário não inserir um valor **divisível por 3** continue executando o código."
   ]
  },
  {
   "cell_type": "code",
   "execution_count": 10,
   "id": "917e7b34-bc31-4556-8be9-d49d558e874f",
   "metadata": {},
   "outputs": [
    {
     "name": "stdout",
     "output_type": "stream",
     "text": [
      "Divisel por 3!\n"
     ]
    }
   ],
   "source": [
    "\n",
    "while True:\n",
    "    num1 = int (input (\"Digite um numero inteiro divisivel por 3\"))\n",
    "    if num1  %3 == 0:\n",
    "        print(\"Divisel por 3!\")\n",
    "        break\n",
    "    else:\n",
    "        print(\"Fale outro numero\")\n",
    "        \n",
    "\n",
    "\n",
    "\n",
    "\n",
    "\n"
   ]
  },
  {
   "cell_type": "markdown",
   "id": "c174efc7-c12d-4173-b77f-e05c28d3cd52",
   "metadata": {},
   "source": [
    "---"
   ]
  },
  {
   "cell_type": "markdown",
   "id": "7426b6c3-b5f5-450e-9cfe-7c99974038ff",
   "metadata": {},
   "source": [
    "### Exercício 06\n",
    "\n",
    "Utilizando a instrução while, crie um programa que peça para o usuário inserir um número inteiro e enquanto o usuário inserir um valor **menor que 10 OU maior que 20** continue executando o código."
   ]
  },
  {
   "cell_type": "code",
   "execution_count": null,
   "id": "61ae61e0-7c11-4f43-bf3d-d89a74d11407",
   "metadata": {},
   "outputs": [
    {
     "name": "stdout",
     "output_type": "stream",
     "text": [
      "Numero entre 10 e 20!\n",
      "Correto! O numero digitado é entre 10 e 20. \n"
     ]
    }
   ],
   "source": [
    "\n",
    "\n",
    "while True:\n",
    "    num1 = int (input (\"Digite um numero inteiro entre 10 e 20\"))\n",
    "    if num1 < 10 or num1 > 20:\n",
    "        print(\"Digite novamente.\")\n",
    "    else:\n",
    "        print(\"Correto! O numero digitado é entre 10 e 20. \")\n",
    "        break\n",
    "    "
   ]
  },
  {
   "cell_type": "markdown",
   "id": "b91fca52-ea24-474a-a953-c1f7d6ff622d",
   "metadata": {},
   "source": [
    "---"
   ]
  },
  {
   "cell_type": "markdown",
   "id": "8cded626-7d89-44a8-b5ba-9907722b6da1",
   "metadata": {},
   "source": [
    "### Exercício 07\n",
    "\n",
    "Utilizando a instrução while, crie um programa que peça para o usuário **'Digitar a senha de acesso'** e enquanto o usuário não digitar a palavra **'segredo'** continue executando o loop."
   ]
  },
  {
   "cell_type": "code",
   "execution_count": 2,
   "id": "a0aa84ff-cdc8-4944-94cd-586e7d589e8a",
   "metadata": {},
   "outputs": [
    {
     "name": "stdout",
     "output_type": "stream",
     "text": [
      "Correto!\n"
     ]
    }
   ],
   "source": [
    "while True:\n",
    "    palavra = str (input (\"Digite a senha de acesso\"))\n",
    "    if palavra == \"segredo\":\n",
    "        print(\"Correto!\")\n",
    "        break\n",
    "    else:\n",
    "        print(\"Senha incorrta\")\n",
    "        \n",
    "\n",
    "   "
   ]
  },
  {
   "cell_type": "markdown",
   "id": "a9edd058-80ac-4172-9539-c16f6ebefbd2",
   "metadata": {},
   "source": [
    "---"
   ]
  },
  {
   "cell_type": "markdown",
   "id": "2731e88d-620b-4881-8b43-419ffe35e443",
   "metadata": {},
   "source": [
    "### Exercício 08\n",
    "\n",
    "Utilizando a instrução while, crie um programa que imprima 5 vezes a frase **'Programação em Python'**.\n",
    "\n",
    "**Dica:**  \n",
    "_Utilize um contador_"
   ]
  },
  {
   "cell_type": "code",
   "execution_count": 2,
   "id": "e8ab5ad4-f3f7-43f0-a808-464b59c20726",
   "metadata": {},
   "outputs": [
    {
     "name": "stdout",
     "output_type": "stream",
     "text": [
      "Python\n",
      "Python\n",
      "Python\n",
      "Python\n",
      "Python\n",
      "Fim\n"
     ]
    }
   ],
   "source": [
    "acumulador = 1 \n",
    "\n",
    "while acumulador <= 5:\n",
    "    print(f\"Python\")\n",
    "    acumulador += 1\n",
    "\n",
    "print(\"Fim\")\n",
    "   \n"
   ]
  },
  {
   "cell_type": "markdown",
   "id": "da3fa10e-b2d2-4439-a151-58ebecdf91bd",
   "metadata": {},
   "source": [
    "---"
   ]
  },
  {
   "cell_type": "markdown",
   "id": "1586e09e-4614-488b-8d33-5dc8d5cc4588",
   "metadata": {
    "tags": []
   },
   "source": [
    "### Exercício 09\n",
    "\n",
    "Crie uma variável e atribua a ela uma lista vazia [], utilizando a instrução while faça um programa onde a cada iteração pergunte **'qual fruta o usuário deseja adicionar a lista'**, e enquanto a lista tiver menos que 5 frutas continue executando o código.  \n",
    "\n",
    "Após o fim do loop imprima os itens da lista."
   ]
  },
  {
   "cell_type": "code",
   "execution_count": 15,
   "id": "7abaac3b-e63c-4438-beb5-efb0e02ba727",
   "metadata": {
    "tags": []
   },
   "outputs": [
    {
     "name": "stdout",
     "output_type": "stream",
     "text": [
      "['eu ', 'eu ', 'eu ', 'eu ', 'eu']\n"
     ]
    }
   ],
   "source": [
    "x = []\n",
    "\n",
    "while len (x) != 5: \n",
    "    fruta = input (\"Fale 5 frutas\")\n",
    "    x.append(fruta)\n",
    "print (x)\n",
    "\n"
   ]
  },
  {
   "cell_type": "markdown",
   "id": "7aee4a32-8157-45a4-adb9-e519f941f353",
   "metadata": {},
   "source": [
    "---"
   ]
  },
  {
   "cell_type": "markdown",
   "id": "c423400e-5e2a-426d-86ed-5e29f6d351b9",
   "metadata": {},
   "source": [
    "### Exercício 10\n",
    "\n",
    "Utilizando a instrução while, crie um programa que peça para o usuário inserir um número inteiro e enquanto o usuário inserir um valor **maior ou igual a zero** continue executando o loop."
   ]
  },
  {
   "cell_type": "code",
   "execution_count": 2,
   "id": "5ef50124-40eb-43bd-8235-55d450ee0b5b",
   "metadata": {},
   "outputs": [
    {
     "name": "stdout",
     "output_type": "stream",
     "text": [
      "Correto\n",
      "Correto\n",
      "Correto\n",
      "Numero negativo!\n"
     ]
    }
   ],
   "source": [
    "\n",
    "while True:\n",
    "    num1 = int (input (\"Digite um numero inteiro\"))\n",
    "    if num1 >= 0:\n",
    "        print(\"Correto\") \n",
    "    else:\n",
    "        print(\"Numero negativo!\")\n",
    "        break\n"
   ]
  },
  {
   "cell_type": "markdown",
   "id": "e3a6c527-ccfc-457c-9400-002802de044b",
   "metadata": {},
   "source": [
    "---"
   ]
  },
  {
   "cell_type": "markdown",
   "id": "16d3fc53-96a9-4edf-8688-c23a60ab67ab",
   "metadata": {},
   "source": [
    "### Exercício 11\n",
    "\n",
    "Utilizando a instrução while, crie um programa que peça para o usuário **'Digitar um texto'** e enquanto o usuário digitar uma palavra com **menos que 6** caracteres continue executando o código."
   ]
  },
  {
   "cell_type": "code",
   "execution_count": 4,
   "id": "38bb2a63-b5ee-49f5-ab8e-32ad0579a2e9",
   "metadata": {},
   "outputs": [
    {
     "name": "stdout",
     "output_type": "stream",
     "text": [
      "Um texto qualquer\n",
      "Um texto qualquer\n",
      "Um texto qualquer\n",
      "Um texto qualquer\n"
     ]
    },
    {
     "ename": "KeyboardInterrupt",
     "evalue": "Interrupted by user",
     "output_type": "error",
     "traceback": [
      "\u001b[1;31m---------------------------------------------------------------------------\u001b[0m",
      "\u001b[1;31mKeyboardInterrupt\u001b[0m                         Traceback (most recent call last)",
      "Cell \u001b[1;32mIn[4], line 4\u001b[0m\n\u001b[0;32m      2\u001b[0m \u001b[38;5;28;01mwhile\u001b[39;00m \u001b[38;5;28mlen\u001b[39m (ver) \u001b[38;5;241m<\u001b[39m \u001b[38;5;241m6\u001b[39m:\n\u001b[0;32m      3\u001b[0m     \u001b[38;5;28mprint\u001b[39m(\u001b[38;5;124m\"\u001b[39m\u001b[38;5;124mUm texto qualquer\u001b[39m\u001b[38;5;124m\"\u001b[39m)\n\u001b[1;32m----> 4\u001b[0m     texto \u001b[38;5;241m=\u001b[39m \u001b[38;5;28minput\u001b[39m (\u001b[38;5;124m\"\u001b[39m\u001b[38;5;124mDigite um texto:\u001b[39m\u001b[38;5;124m\"\u001b[39m)\n\u001b[0;32m      6\u001b[0m \u001b[38;5;28mprint\u001b[39m(\u001b[38;5;124m\"\u001b[39m\u001b[38;5;124mFim\u001b[39m\u001b[38;5;124m\"\u001b[39m)\n",
      "File \u001b[1;32mc:\\Users\\Aluno\\anaconda3\\Lib\\site-packages\\ipykernel\\kernelbase.py:1202\u001b[0m, in \u001b[0;36mKernel.raw_input\u001b[1;34m(self, prompt)\u001b[0m\n\u001b[0;32m   1200\u001b[0m     msg \u001b[38;5;241m=\u001b[39m \u001b[38;5;124m\"\u001b[39m\u001b[38;5;124mraw_input was called, but this frontend does not support input requests.\u001b[39m\u001b[38;5;124m\"\u001b[39m\n\u001b[0;32m   1201\u001b[0m     \u001b[38;5;28;01mraise\u001b[39;00m StdinNotImplementedError(msg)\n\u001b[1;32m-> 1202\u001b[0m \u001b[38;5;28;01mreturn\u001b[39;00m \u001b[38;5;28mself\u001b[39m\u001b[38;5;241m.\u001b[39m_input_request(\n\u001b[0;32m   1203\u001b[0m     \u001b[38;5;28mstr\u001b[39m(prompt),\n\u001b[0;32m   1204\u001b[0m     \u001b[38;5;28mself\u001b[39m\u001b[38;5;241m.\u001b[39m_parent_ident[\u001b[38;5;124m\"\u001b[39m\u001b[38;5;124mshell\u001b[39m\u001b[38;5;124m\"\u001b[39m],\n\u001b[0;32m   1205\u001b[0m     \u001b[38;5;28mself\u001b[39m\u001b[38;5;241m.\u001b[39mget_parent(\u001b[38;5;124m\"\u001b[39m\u001b[38;5;124mshell\u001b[39m\u001b[38;5;124m\"\u001b[39m),\n\u001b[0;32m   1206\u001b[0m     password\u001b[38;5;241m=\u001b[39m\u001b[38;5;28;01mFalse\u001b[39;00m,\n\u001b[0;32m   1207\u001b[0m )\n",
      "File \u001b[1;32mc:\\Users\\Aluno\\anaconda3\\Lib\\site-packages\\ipykernel\\kernelbase.py:1245\u001b[0m, in \u001b[0;36mKernel._input_request\u001b[1;34m(self, prompt, ident, parent, password)\u001b[0m\n\u001b[0;32m   1242\u001b[0m \u001b[38;5;28;01mexcept\u001b[39;00m \u001b[38;5;167;01mKeyboardInterrupt\u001b[39;00m:\n\u001b[0;32m   1243\u001b[0m     \u001b[38;5;66;03m# re-raise KeyboardInterrupt, to truncate traceback\u001b[39;00m\n\u001b[0;32m   1244\u001b[0m     msg \u001b[38;5;241m=\u001b[39m \u001b[38;5;124m\"\u001b[39m\u001b[38;5;124mInterrupted by user\u001b[39m\u001b[38;5;124m\"\u001b[39m\n\u001b[1;32m-> 1245\u001b[0m     \u001b[38;5;28;01mraise\u001b[39;00m \u001b[38;5;167;01mKeyboardInterrupt\u001b[39;00m(msg) \u001b[38;5;28;01mfrom\u001b[39;00m \u001b[38;5;28;01mNone\u001b[39;00m\n\u001b[0;32m   1246\u001b[0m \u001b[38;5;28;01mexcept\u001b[39;00m \u001b[38;5;167;01mException\u001b[39;00m:\n\u001b[0;32m   1247\u001b[0m     \u001b[38;5;28mself\u001b[39m\u001b[38;5;241m.\u001b[39mlog\u001b[38;5;241m.\u001b[39mwarning(\u001b[38;5;124m\"\u001b[39m\u001b[38;5;124mInvalid Message:\u001b[39m\u001b[38;5;124m\"\u001b[39m, exc_info\u001b[38;5;241m=\u001b[39m\u001b[38;5;28;01mTrue\u001b[39;00m)\n",
      "\u001b[1;31mKeyboardInterrupt\u001b[0m: Interrupted by user"
     ]
    }
   ],
   "source": [
    "\n",
    "ver = input(\"Digite um texto\")\n",
    "while len (ver) < 6:\n",
    "    print(\"Um texto qualquer\")\n",
    "    texto = input (\"Digite um texto:\")\n",
    "\n",
    "print(\"Fim\")\n",
    "    "
   ]
  },
  {
   "cell_type": "markdown",
   "id": "b277f9bd-6c08-4376-84ce-2366ecfcdcc3",
   "metadata": {},
   "source": [
    "---"
   ]
  },
  {
   "cell_type": "markdown",
   "id": "f9540547-db11-4bd1-8307-064b82f09c20",
   "metadata": {},
   "source": [
    "### Exercício 12\n",
    "\n",
    "Crie uma variável e atribua a ela o valor 0, utilizando a instrção while, crie um programa que peça para o usuário digitar um número inteiro e a cada vez que o usuário digitar um número some o valor informado a variável criada. \n",
    "\n",
    "Enquando a variável criada for **menor que 100** continue executando o código."
   ]
  },
  {
   "cell_type": "code",
   "execution_count": 6,
   "id": "422e0260-d6d9-4930-9601-b39d209a43fd",
   "metadata": {
    "tags": []
   },
   "outputs": [
    {
     "name": "stdout",
     "output_type": "stream",
     "text": [
      "o valor informado é 54\n",
      "o valor informado é 4409\n",
      "Fim\n"
     ]
    }
   ],
   "source": [
    "v = 0\n",
    "\n",
    "while v < 100:\n",
    "    n = int (input(\"Digite um número:\"))\n",
    "    v = v + n\n",
    "    print(f\"o valor informado é {v}\")\n",
    "\n",
    "print(\"Fim\")"
   ]
  },
  {
   "cell_type": "markdown",
   "id": "d2f352c3-9a73-4042-986a-2710abbebf85",
   "metadata": {},
   "source": [
    "---"
   ]
  }
 ],
 "metadata": {
  "kernelspec": {
   "display_name": "base",
   "language": "python",
   "name": "python3"
  },
  "language_info": {
   "codemirror_mode": {
    "name": "ipython",
    "version": 3
   },
   "file_extension": ".py",
   "mimetype": "text/x-python",
   "name": "python",
   "nbconvert_exporter": "python",
   "pygments_lexer": "ipython3",
   "version": "3.11.5"
  }
 },
 "nbformat": 4,
 "nbformat_minor": 5
}
