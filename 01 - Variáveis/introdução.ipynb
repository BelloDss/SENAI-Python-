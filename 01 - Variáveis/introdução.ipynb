{
 "cells": [
  {
   "cell_type": "code",
   "execution_count": null,
   "metadata": {},
   "outputs": [],
   "source": [
    "print ('TABUADA NA RESENHA')   \n",
    "\n",
    "a = 12\n",
    "b = 22\n",
    "print(b+a)\n",
    "\n",
    "print ()\n",
    "print (2*1)\n",
    "print (2*2)\n",
    "print (2*3)\n",
    "print (2*4)\n",
    "print (2*5)\n",
    "print (2*6)\n",
    "print (2*7)\n",
    "print (2*8)\n",
    "print (2*9)\n",
    "print (2*10)\n",
    "\n"
   ]
  },
  {
   "cell_type": "code",
   "execution_count": null,
   "metadata": {},
   "outputs": [],
   "source": [
    "# comentario que nao funfa\n",
    "print (\" 10+10 \")"
   ]
  },
  {
   "cell_type": "code",
   "execution_count": null,
   "metadata": {},
   "outputs": [],
   "source": [
    "# funções conjustas separadas por virgula e aspas podem se denominas de argumentos, a qual quando dividade ou separada por virgula é concatenar\n",
    "print (\" meu nome é thiago e tenho\", 10, \"anos\")\n"
   ]
  },
  {
   "cell_type": "code",
   "execution_count": null,
   "metadata": {},
   "outputs": [],
   "source": [
    "# python é case sensitive (DIFERENCIA LETRAS MAIUSCULA DE MINUSCULA)\n",
    "print (\"Micomeceu\")\n",
    "Print (\"ta errado\")"
   ]
  },
  {
   "cell_type": "code",
   "execution_count": null,
   "metadata": {},
   "outputs": [],
   "source": [
    "# input() Recebe uma informação do usuario\n",
    "input (\" qual é o seu nome\")"
   ]
  },
  {
   "cell_type": "code",
   "execution_count": 19,
   "metadata": {},
   "outputs": [
    {
     "name": "stdout",
     "output_type": "stream",
     "text": [
      "qual é a sua profissao? professor\n",
      "qual é o sey salario? 15000\n",
      "qual é a escola que vc trabalha? luiz pagliato\n",
      "eu moro na rua paula ney 1627 e tenho um carro q se chama polo 200tsi branco\n"
     ]
    }
   ],
   "source": [
    "# VARIAVEIS PARA ARMAZENAR VALOR DEPOIS DO INPUT (UMA VARIAVEL)\n",
    "\n",
    "profissao = \"professor\"\n",
    "salario = \"15000\"\n",
    "escola = \"luiz pagliato\"\n",
    "casa = \"rua paula ney 1627\"\n",
    "carro = \"polo 200tsi branco\"\n",
    "\n",
    "print (\"qual é a sua profissao?\", profissao,)\n",
    "print (\"qual é o sey salario?\", salario,)\n",
    "print (\"qual é a escola que vc trabalha?\", escola,)\n",
    "print (\"eu moro na\", casa,\"e tenho um carro q se chama\", carro)"
   ]
  },
  {
   "cell_type": "code",
   "execution_count": 20,
   "metadata": {},
   "outputs": [],
   "source": [
    "#Nome de variaveis\n",
    " # -1 Não pode conte espaço (tes te) o correto é (tes_te)\n",
    "nome_completo = \"Matheus Bello\"\n",
    "\n",
    "# -2 não pode começar com numero \n",
    "numero10 = 100 #certo\n",
    "10numero + 100 #errado\n",
    "\n",
    "# -3 Caracter especial = @%!#$!¨#$ = 8\n",
    "\n",
    "# Boa-pratica - não utilizar acento \n",
    "número = 2 "
   ]
  },
  {
   "cell_type": "code",
   "execution_count": 25,
   "metadata": {},
   "outputs": [
    {
     "name": "stdout",
     "output_type": "stream",
     "text": [
      "8\n",
      "12\n",
      "0\n"
     ]
    }
   ],
   "source": [
    "a =5\n",
    "b = 7 \n",
    "c = a + 3\n",
    "d = a + b + 8\n",
    "\n",
    "\n",
    "print (c)\n",
    "print (d)\n",
    "\n",
    "c = \"zero\"\n",
    "\n",
    "print (c)"
   ]
  },
  {
   "cell_type": "code",
   "execution_count": 26,
   "metadata": {},
   "outputs": [
    {
     "name": "stdout",
     "output_type": "stream",
     "text": [
      "MEU NOME É matheus eu moro em vootrantim\n"
     ]
    }
   ],
   "source": [
    "nome = input (\" qual é o seu nome\")\n",
    "cidade = input (\"qual o nome da sua cidade\")\n",
    "\n",
    "\n",
    "print (\"MEU NOME É\", nome, \"eu moro em\",cidade)"
   ]
  },
  {
   "cell_type": "code",
   "execution_count": null,
   "metadata": {},
   "outputs": [],
   "source": [
    "# Forma de usar as aspas\n",
    "# -1 \n",
    "print (\"Analise e 'desenvolvimento' de sistemas\")\n",
    "print ('Analise e \"desenvolvimento\" de sistemas')\n",
    "print (\"Analise e \\\"desenvolvimento\\\" de sistemas\")"
   ]
  }
 ],
 "metadata": {
  "kernelspec": {
   "display_name": "base",
   "language": "python",
   "name": "python3"
  },
  "language_info": {
   "codemirror_mode": {
    "name": "ipython",
    "version": 3
   },
   "file_extension": ".py",
   "mimetype": "text/x-python",
   "name": "python",
   "nbconvert_exporter": "python",
   "pygments_lexer": "ipython3",
   "version": "3.11.5"
  }
 },
 "nbformat": 4,
 "nbformat_minor": 2
}
