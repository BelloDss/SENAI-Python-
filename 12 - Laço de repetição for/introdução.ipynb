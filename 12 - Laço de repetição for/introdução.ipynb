{
 "cells": [
  {
   "cell_type": "code",
   "execution_count": 5,
   "metadata": {},
   "outputs": [
    {
     "name": "stdout",
     "output_type": "stream",
     "text": [
      "5\n",
      "10\n",
      "15\n",
      "20\n",
      "25\n"
     ]
    }
   ],
   "source": [
    "# Sem utilizar a instrução 'for' \n",
    "\n",
    "valores = [1, 2, 3, 4, 5]\n",
    "\n",
    "print (valores[0] * 5)\n",
    "print (valores[1] * 5)\n",
    "print (valores[2] * 5)\n",
    "print (valores[3] * 5)\n",
    "print (valores[4] * 5)"
   ]
  },
  {
   "cell_type": "code",
   "execution_count": null,
   "metadata": {},
   "outputs": [
    {
     "name": "stdout",
     "output_type": "stream",
     "text": [
      "5\n",
      "10\n",
      "15\n",
      "20\n",
      "25\n"
     ]
    }
   ],
   "source": [
    "# Utilizando a instrução 'for'\n",
    "\n",
    "valores = [1, 2, 3, 4, 5]\n",
    "\n",
    "for Valor in valores:\n",
    "    print ( Valor * 5)"
   ]
  },
  {
   "cell_type": "code",
   "execution_count": null,
   "metadata": {},
   "outputs": [
    {
     "name": "stdout",
     "output_type": "stream",
     "text": [
      "0\n",
      "1\n",
      "2\n",
      "3\n",
      "4\n",
      "5\n",
      "6\n",
      "7\n",
      "8\n",
      "9\n"
     ]
    }
   ],
   "source": [
    "# Range() - Gera uma sequencia de números\n",
    "\n",
    "for L in range(10):\n",
    "    print(L)"
   ]
  },
  {
   "cell_type": "code",
   "execution_count": 4,
   "metadata": {},
   "outputs": [
    {
     "name": "stdout",
     "output_type": "stream",
     "text": [
      "7\n",
      "8\n",
      "9\n",
      "10\n",
      "11\n",
      "12\n",
      "13\n",
      "14\n"
     ]
    }
   ],
   "source": [
    "# Range (inicio, fim)\n",
    "\n",
    "for L in range(7, 15):\n",
    "    print(L)"
   ]
  },
  {
   "cell_type": "code",
   "execution_count": 5,
   "metadata": {},
   "outputs": [
    {
     "name": "stdout",
     "output_type": "stream",
     "text": [
      "0\n",
      "2\n",
      "4\n",
      "6\n",
      "8\n",
      "10\n"
     ]
    }
   ],
   "source": [
    "# Range (inicio, fim , Intervalo)\n",
    "\n",
    "for L in range(0 , 12 , 2):\n",
    "    print(L)"
   ]
  },
  {
   "cell_type": "code",
   "execution_count": 1,
   "metadata": {},
   "outputs": [
    {
     "name": "stdout",
     "output_type": "stream",
     "text": [
      "5\n",
      "4\n",
      "3\n",
      "2\n",
      "1\n"
     ]
    }
   ],
   "source": [
    "for x in range (5,0,-1):\n",
    "    print(x)"
   ]
  },
  {
   "cell_type": "code",
   "execution_count": 2,
   "metadata": {},
   "outputs": [
    {
     "name": "stdout",
     "output_type": "stream",
     "text": [
      "O número 1 é impar\n",
      "O número 2 é par\n",
      "O número 3 é impar\n",
      "O número 4 é par\n",
      "O número 5 é impar\n"
     ]
    }
   ],
   "source": [
    "# Estrutura Condicional - if \n",
    "\n",
    "valores = [1,2,3,4,5]\n",
    "\n",
    "for valor in valores:\n",
    "    resto = valor % 2\n",
    "    if resto == 0:\n",
    "        print(f\"O número {valor} é par\")\n",
    "    else:\n",
    "        print(f\"O número {valor} é impar\")"
   ]
  },
  {
   "cell_type": "code",
   "execution_count": 4,
   "metadata": {},
   "outputs": [
    {
     "name": "stdout",
     "output_type": "stream",
     "text": [
      "A letra s é consoante\n",
      "A letra e é um vogal\n",
      "A letra n é consoante\n",
      "A letra a é um vogal\n",
      "A letra i é um vogal\n"
     ]
    }
   ],
   "source": [
    "#Laço For com strings \n",
    "\n",
    "for letra in \"senai\":\n",
    "    if letra in [\"a\",\"e\",\"i\",\"o\",\"u\"]:\n",
    "        print(f\"A letra {letra} é um vogal\")\n",
    "    else:\n",
    "        print(f\"A letra {letra} é consoante\")"
   ]
  },
  {
   "cell_type": "code",
   "execution_count": null,
   "metadata": {},
   "outputs": [],
   "source": []
  }
 ],
 "metadata": {
  "kernelspec": {
   "display_name": "Python 3",
   "language": "python",
   "name": "python3"
  },
  "language_info": {
   "codemirror_mode": {
    "name": "ipython",
    "version": 3
   },
   "file_extension": ".py",
   "mimetype": "text/x-python",
   "name": "python",
   "nbconvert_exporter": "python",
   "pygments_lexer": "ipython3",
   "version": "3.13.2"
  }
 },
 "nbformat": 4,
 "nbformat_minor": 2
}
