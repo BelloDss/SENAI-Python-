{
 "cells": [
  {
   "cell_type": "code",
   "execution_count": 2,
   "metadata": {},
   "outputs": [
    {
     "name": "stdout",
     "output_type": "stream",
     "text": [
      "<class 'int'>\n",
      "[2, 'python', False, 5.99]\n"
     ]
    }
   ],
   "source": [
    "# Lista\n",
    "\n",
    "n = 5\n",
    "print ( type(n))\n",
    "\n",
    "lista = [2, \"python\", False, 5.99]\n",
    "print (lista)"
   ]
  },
  {
   "cell_type": "code",
   "execution_count": null,
   "metadata": {},
   "outputs": [],
   "source": [
    "frutas = [\"Limão\",\"Laranja\",\"Abacate\",\"uva\",\"maça\"]\n",
    "\n",
    "print (frutas) #lista\n",
    "print (frutas[0]) # Limão\n",
    "print (frutas[1]) # laranja\n",
    "print (frutas[2]) # Abacate\n",
    "print (frutas[3]) # Uva\n",
    "print (frutas[4]) # Uva\n"
   ]
  },
  {
   "cell_type": "code",
   "execution_count": null,
   "metadata": {},
   "outputs": [],
   "source": [
    "lista1 = []\n",
    "lista2 = [\"A\",2,False]\n",
    "lista3 = list((\"A\",2, False))\n",
    "\n",
    "print(lista1)\n",
    "\n",
    "print(lista2)\n",
    "\n",
    "\n",
    "print(lista3)"
   ]
  },
  {
   "cell_type": "code",
   "execution_count": null,
   "metadata": {},
   "outputs": [],
   "source": [
    "nomes = ['julia' , 'Pedro', 'Tiago']\n",
    "          # 0       1           2\n",
    "print (nomes[1])\n",
    "print (nomes[1 + 1])\n",
    "\n"
   ]
  },
  {
   "cell_type": "code",
   "execution_count": null,
   "metadata": {},
   "outputs": [],
   "source": [
    "i = int(input(\"Digite um numero inteiro\"))\n",
    "frutas = [\"Limão\", \"Laranja\", \"Abacate\", \"uva\",\"Maça\"]\n",
    "print(frutas[1] )"
   ]
  },
  {
   "cell_type": "code",
   "execution_count": null,
   "metadata": {},
   "outputs": [],
   "source": [
    "# STRINGS TAMBEM POSSUEM INDICES\n",
    "\n",
    "print( \"Python\")\n",
    "print( \"Python\"[1])\n",
    "print( \"Python\"[2])\n",
    "print( \"Python\"[3])\n",
    "print( \"Python\"[4])\n",
    "print( \"Python\"[5])\n",
    "\n",
    "\n"
   ]
  },
  {
   "cell_type": "code",
   "execution_count": 1,
   "metadata": {},
   "outputs": [
    {
     "name": "stdout",
     "output_type": "stream",
     "text": [
      "['Limão', 'Laranja', 'Mamão']\n"
     ]
    }
   ],
   "source": [
    "# METODOS DE lista\n",
    "# APPEND() - METODO\n",
    "\n",
    "frutas = [\"Limão\", \"Laranja\", ]\n",
    "frutas.append(\"Mamão\")\n",
    "\n",
    "print(frutas)\n",
    "\n"
   ]
  },
  {
   "cell_type": "code",
   "execution_count": null,
   "metadata": {},
   "outputs": [],
   "source": [
    "\n",
    "\n",
    "nomes = [\"Thiago\",\"Jefs\",\"Douglas\"]\n",
    "\n",
    "print (nomes[2])\n",
    "nomes.insert(2, \"Cláudio\")\n",
    "\n",
    "print(nomes[2])\n",
    "print(nomes)"
   ]
  },
  {
   "cell_type": "code",
   "execution_count": null,
   "metadata": {},
   "outputs": [],
   "source": [
    "# Remove da lista o INDICE informado \n",
    "\n",
    "nomes = [\"Thiago\",\"Jefs\",\"Douglas\",\"TUCU\"]\n",
    "\n",
    "nomes.remove('Jefs')\n",
    "nomes.remove('TUCU')\n",
    "\n",
    "print(nomes)"
   ]
  },
  {
   "cell_type": "code",
   "execution_count": null,
   "metadata": {},
   "outputs": [],
   "source": [
    "# pop() - Remove da lista o indice informado\n",
    "\n",
    "frutas = [\"Maça\",\"Uva,\",\"Kiwi\",\"Pera\"]\n",
    "\n",
    "frutas.pop (2)\n",
    "frutas.pop (0)\n",
    "print (frutas)"
   ]
  },
  {
   "cell_type": "code",
   "execution_count": null,
   "metadata": {},
   "outputs": [],
   "source": [
    "#lista [0] = valor - Substitui o valor do indice informado\n",
    "\n",
    "frutas = [\"Maça\",\"Melão\",'laranja','Abacaxi',\"Kiwi\"]\n",
    "\n",
    "frutas[2] = \"Laranja\"\n",
    "frutas[0] = \"Abacate\"\n",
    "\n",
    "print(frutas)\n",
    "\n",
    "\n"
   ]
  },
  {
   "cell_type": "code",
   "execution_count": null,
   "metadata": {},
   "outputs": [],
   "source": [
    "# index() - Retorna o INDICE do VALOR informado\n",
    "\n",
    "frutas = ['Uva','Banana','Laranja','Kiwi']\n",
    "\n",
    "print (frutas.index(\"Banana\"))\n",
    "print (frutas.index(\"Uva\"))\n",
    "\n",
    "print (frutas.index(\"Melão\")) #Retorna\n",
    "\n"
   ]
  },
  {
   "cell_type": "code",
   "execution_count": null,
   "metadata": {},
   "outputs": [],
   "source": [
    "# count() - retorna a quantidade de vezes que o valor informado foi encontrado\n",
    "\n",
    "numeros = [2, 3, 3, 4, 4, 4, 5, 5, 5, 5]\n",
    "\n",
    "print ( numeros.count(2))\n",
    "print ( numeros.count(3))\n",
    "print ( numeros.count(4))\n",
    "print ( numeros.count(5))"
   ]
  },
  {
   "cell_type": "code",
   "execution_count": null,
   "metadata": {},
   "outputs": [],
   "source": [
    "# sort() Ordna a lista em ordem crescente \n",
    "\n",
    "numeros = [3, 4, 5, 1, 2]\n",
    "letras = [\"c\", \"d\", 'e','a','b']\n",
    "\n",
    "numeros.sort()\n",
    "letras.sort()\n",
    "\n",
    "print(numeros)\n",
    "print(letras)"
   ]
  },
  {
   "cell_type": "code",
   "execution_count": null,
   "metadata": {},
   "outputs": [],
   "source": [
    "numeros = [3,2,1,32,5,]\n",
    "\n",
    "numeros.reverse()\n",
    "\n",
    "print(numeros)\n",
    "\n",
    "#reverse() - inverte os VALORES da lista\n",
    "\n",
    "\n"
   ]
  },
  {
   "cell_type": "code",
   "execution_count": null,
   "metadata": {},
   "outputs": [],
   "source": [
    "# funços com lista \n",
    "# \n",
    "# len() - retona o tamho da lista\n",
    "\n",
    "print (len(nomes))\n",
    "\n"
   ]
  },
  {
   "cell_type": "code",
   "execution_count": 3,
   "metadata": {},
   "outputs": [
    {
     "name": "stdout",
     "output_type": "stream",
     "text": [
      "9\n"
     ]
    }
   ],
   "source": [
    "# max() maio numero\n",
    "numeros = [1, 2, 3, 4, 5, 6, 7, 8, 9 ]\n",
    "\n",
    "print (max(numeros))\n",
    "\n"
   ]
  },
  {
   "cell_type": "code",
   "execution_count": null,
   "metadata": {},
   "outputs": [],
   "source": [
    "# o + soma as listas\n",
    "\n",
    "lista1 = [1,2,3] + [4,5,6]\n",
    "\n",
    "print (lista1)\n",
    "\n"
   ]
  },
  {
   "cell_type": "code",
   "execution_count": null,
   "metadata": {},
   "outputs": [],
   "source": [
    "# Operador * - repete os valores da lista pelo numero informado\n",
    "\n",
    "lista = [0,1]\n",
    "print (lista*5)"
   ]
  }
 ],
 "metadata": {
  "kernelspec": {
   "display_name": "base",
   "language": "python",
   "name": "python3"
  },
  "language_info": {
   "codemirror_mode": {
    "name": "ipython",
    "version": 3
   },
   "file_extension": ".py",
   "mimetype": "text/x-python",
   "name": "python",
   "nbconvert_exporter": "python",
   "pygments_lexer": "ipython3",
   "version": "3.11.5"
  }
 },
 "nbformat": 4,
 "nbformat_minor": 2
}
