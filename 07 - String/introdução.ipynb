{
 "cells": [
  {
   "cell_type": "code",
   "execution_count": 2,
   "metadata": {},
   "outputs": [
    {
     "data": {
      "text/plain": [
       "'PROGRAMAÇÃO EM PYTHON'"
      ]
     },
     "execution_count": 2,
     "metadata": {},
     "output_type": "execute_result"
    }
   ],
   "source": [
    "# .upper() ele transforma os caracteres em letra maiuscula\n",
    "'programação em python'.upper()\n"
   ]
  },
  {
   "cell_type": "code",
   "execution_count": null,
   "metadata": {},
   "outputs": [],
   "source": [
    "# Função vc. Método\n",
    "# função (valor)\n",
    "# valor.método()"
   ]
  },
  {
   "cell_type": "code",
   "execution_count": 3,
   "metadata": {},
   "outputs": [
    {
     "name": "stdout",
     "output_type": "stream",
     "text": [
      "aula do claudio\n"
     ]
    }
   ],
   "source": [
    "# lower() - Converte todos os caracteres para caixa baixa\n",
    "\n",
    "print (\"AULA DO CLAUDIO\".lower())"
   ]
  },
  {
   "cell_type": "code",
   "execution_count": 1,
   "metadata": {},
   "outputs": [
    {
     "name": "stdout",
     "output_type": "stream",
     "text": [
      "Kaio Esqusitio\n",
      "Julo De Tal\n",
      "Patricia Do Senau\n",
      "Jefs Do Ti\n"
     ]
    }
   ],
   "source": [
    "# title()- converte a primeira letra para caixa alta de cada palavra\n",
    "\n",
    "nome1 = \"Kaio esqusitio\"\n",
    "nome2 = 'julo de TAL'\n",
    "nome3 = 'PATRICIA DO SENAU'\n",
    "nome4 = 'jefs DO TI'\n",
    "\n",
    "print (nome1.title())\n",
    "print (nome2.title())\n",
    "print (nome3.title())\n",
    "print (nome4.title())\n"
   ]
  },
  {
   "cell_type": "code",
   "execution_count": 2,
   "metadata": {},
   "outputs": [
    {
     "name": "stdout",
     "output_type": "stream",
     "text": [
      "Antes do replace\n",
      "Depois do  replace\n"
     ]
    }
   ],
   "source": [
    "print (\"Antes do replace\")\n",
    "print (\"Antes do  replace\".replace(\"Antes\",\"Depois\"))\n"
   ]
  },
  {
   "cell_type": "code",
   "execution_count": 1,
   "metadata": {},
   "outputs": [
    {
     "ename": "SyntaxError",
     "evalue": "invalid syntax. Perhaps you forgot a comma? (1808780888.py, line 1)",
     "output_type": "error",
     "traceback": [
      "\u001b[1;36m  Cell \u001b[1;32mIn[1], line 1\u001b[1;36m\u001b[0m\n\u001b[1;33m    print(\"Case sensitive\"replace(\"case\",\"CASA\"))\u001b[0m\n\u001b[1;37m          ^\u001b[0m\n\u001b[1;31mSyntaxError\u001b[0m\u001b[1;31m:\u001b[0m invalid syntax. Perhaps you forgot a comma?\n"
     ]
    }
   ],
   "source": [
    "print(\"Case sensitive\"replace(\"case\",\"CASA\"))\n",
    "print( \"1,000,000,00\".replace(\",\",\".\"))"
   ]
  },
  {
   "cell_type": "code",
   "execution_count": 3,
   "metadata": {},
   "outputs": [
    {
     "name": "stdout",
     "output_type": "stream",
     "text": [
      "     inicio    meio    e    fim   \n",
      "inicio    meio    e    fim\n"
     ]
    }
   ],
   "source": [
    "# strip() Remove os espaçamentos do inico e fim da uma string (só remove do meio e do fim)\n",
    "\n",
    "print (\"     inicio    meio    e    fim   \")\n",
    "\n",
    "print (\"     inicio    meio    e    fim   \".strip())\n"
   ]
  },
  {
   "cell_type": "code",
   "execution_count": 3,
   "metadata": {},
   "outputs": [
    {
     "name": "stdout",
     "output_type": "stream",
     "text": [
      "6\n",
      "1\n"
     ]
    }
   ],
   "source": [
    "# count() - Retorna a quantidade de vezes \n",
    "# que o valor informado é encontrado\n",
    "\n",
    "msg = \"Estas doações serão destinadas ao povo do Rio grande do Sul\"\n",
    "print (msg.count (\"a\"))\n",
    "print (msg.count (\"serão\"))\n"
   ]
  },
  {
   "cell_type": "code",
   "execution_count": 7,
   "metadata": {},
   "outputs": [
    {
     "name": "stdout",
     "output_type": "stream",
     "text": [
      "2\n"
     ]
    }
   ],
   "source": [
    "msg = (\"Escola Senai Luiz Pagliato\").upper()\n",
    "\n",
    "print (msg.count(\"E\"))"
   ]
  },
  {
   "cell_type": "code",
   "execution_count": null,
   "metadata": {},
   "outputs": [],
   "source": [
    "# Metodos aninhados \n",
    "\"Escola Senai Luiz Pagliato\".upper().count(\"E\")"
   ]
  },
  {
   "cell_type": "code",
   "execution_count": 9,
   "metadata": {},
   "outputs": [
    {
     "name": "stdout",
     "output_type": "stream",
     "text": [
      "007\n",
      "00123456789\n",
      "100\n"
     ]
    }
   ],
   "source": [
    "# zfill() - Preenche com \"zero\" a esquerda\n",
    "\n",
    "print (\"7\".zfill(3))\n",
    "print(\"123456789\".zfill(11))\n",
    "print (\"100\".zfill(3))"
   ]
  },
  {
   "cell_type": "code",
   "execution_count": 11,
   "metadata": {},
   "outputs": [
    {
     "name": "stdout",
     "output_type": "stream",
     "text": [
      "True\n",
      "False\n"
     ]
    }
   ],
   "source": [
    "# endswitch( - retorna True se o valor)\n",
    "# informado estiver no final da string \n",
    "\n",
    "print(\"senai 404\".endswith(\"404\"))\n",
    "print(\"senai 402\".endswith(\"404\"))"
   ]
  },
  {
   "cell_type": "code",
   "execution_count": 1,
   "metadata": {},
   "outputs": [
    {
     "name": "stdout",
     "output_type": "stream",
     "text": [
      "Voce é de Votirintim\n"
     ]
    }
   ],
   "source": [
    "cidade = \"Votorantim/SP\" .startswith (\"Sorocaba\")\n",
    "\n",
    "if cidade:\n",
    "    print(\"Voce é de soroCity\")\n",
    "else:\n",
    "    print(\"Voce é de Votirintim\")"
   ]
  },
  {
   "cell_type": "code",
   "execution_count": 2,
   "metadata": {},
   "outputs": [
    {
     "name": "stdout",
     "output_type": "stream",
     "text": [
      "0\n"
     ]
    }
   ],
   "source": [
    "estado = \"Rio grande do Sul\".count(\"Janeiro\")\n",
    "print(estado)\n"
   ]
  },
  {
   "cell_type": "code",
   "execution_count": null,
   "metadata": {},
   "outputs": [],
   "source": [
    "# isalpha() - Retorna True se todos os caracteres forem letras do alfabeto (a-z)\n",
    "\n",
    "print( \"SENAI\".isalpha())\n",
    "print( \"SENA1\".isalpha())\n",
    "print( \"SEN@I\".isalpha())"
   ]
  },
  {
   "cell_type": "code",
   "execution_count": 4,
   "metadata": {},
   "outputs": [
    {
     "name": "stdout",
     "output_type": "stream",
     "text": [
      "True\n",
      "False\n"
     ]
    }
   ],
   "source": [
    "#isdecimal() -Retorna True se todos os caracteres forem número decimais (0-9)\n",
    "\n",
    "print( \"1234\".isdecimal() )\n",
    "print( \"A1234\".isdecimal() )"
   ]
  },
  {
   "cell_type": "code",
   "execution_count": 6,
   "metadata": {},
   "outputs": [
    {
     "name": "stdout",
     "output_type": "stream",
     "text": [
      "True\n",
      "True\n",
      "True\n"
     ]
    }
   ],
   "source": [
    "# isalnum() - Retorna True se houver letras ou numeros\n",
    "\n",
    "print (\"Kat1a\".isalnum())\n",
    "print (\"12345\".isalnum())\n",
    "print (\"Claudio\".isalnum())"
   ]
  },
  {
   "cell_type": "code",
   "execution_count": 7,
   "metadata": {},
   "outputs": [
    {
     "name": "stdout",
     "output_type": "stream",
     "text": [
      "6\n",
      "5\n",
      "32\n"
     ]
    }
   ],
   "source": [
    "# len () (Funçao) - Retorna a quantidade de caracteres\n",
    "\n",
    "print(len(\"Thiago\"))\n",
    "print(len(\"senha\"))\n",
    "print(len(\"niasdubaisbausdbausdausbduabsday\"))"
   ]
  },
  {
   "cell_type": "code",
   "execution_count": 8,
   "metadata": {},
   "outputs": [
    {
     "name": "stdout",
     "output_type": "stream",
     "text": [
      "SENAILuizPagliato\n"
     ]
    }
   ],
   "source": [
    "# Operador + - Concatena valores\n",
    "print (\"SENAI\" + \"Luiz\" + \"Pagliato\")"
   ]
  },
  {
   "cell_type": "code",
   "execution_count": null,
   "metadata": {},
   "outputs": [],
   "source": [
    "nomege 1z"
   ]
  }
 ],
 "metadata": {
  "kernelspec": {
   "display_name": "base",
   "language": "python",
   "name": "python3"
  },
  "language_info": {
   "codemirror_mode": {
    "name": "ipython",
    "version": 3
   },
   "file_extension": ".py",
   "mimetype": "text/x-python",
   "name": "python",
   "nbconvert_exporter": "python",
   "pygments_lexer": "ipython3",
   "version": "3.11.5"
  }
 },
 "nbformat": 4,
 "nbformat_minor": 2
}
