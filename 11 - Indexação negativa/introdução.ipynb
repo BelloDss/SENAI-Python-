{
 "cells": [
  {
   "cell_type": "code",
   "execution_count": null,
   "metadata": {},
   "outputs": [
    {
     "name": "stdout",
     "output_type": "stream",
     "text": [
      "Kleython\n",
      "Douglas\n",
      "Nanias\n",
      "Jefs\n",
      "Claudio\n"
     ]
    }
   ],
   "source": [
    "# indexação negativa\n",
    "\n",
    "nomes = [\"Claudio\",\"Jefs\",\"Nanias\",\"Douglas\",\"Kleython\"]\n",
    "\n",
    "print(nomes [-1]) \n",
    "print(nomes [-2])\n",
    "print(nomes [-3])\n",
    "print(nomes [-4])\n",
    "print(nomes [-5]) # = 0"
   ]
  },
  {
   "cell_type": "code",
   "execution_count": 7,
   "metadata": {},
   "outputs": [
    {
     "name": "stdout",
     "output_type": "stream",
     "text": [
      "Nanias\n"
     ]
    }
   ],
   "source": [
    "# Alternativa \n",
    "\n",
    "nomes = [\"Claudio\",\"Jefs\",\"Nanias\",\"Douglas\",\"Kleython\"]\n",
    "\n",
    "tamanho = len(nomes)\n",
    "\n",
    "print(nomes[tamanho-3])"
   ]
  },
  {
   "cell_type": "code",
   "execution_count": 8,
   "metadata": {},
   "outputs": [
    {
     "name": "stdout",
     "output_type": "stream",
     "text": [
      "n\n",
      "o\n",
      "h\n",
      "t\n",
      "y\n",
      "P\n"
     ]
    }
   ],
   "source": [
    "# indexação negativa com Strings\n",
    "\n",
    "print(\"Python\" [-1])\n",
    "print(\"Python\" [-2])\n",
    "print(\"Python\" [-3])\n",
    "print(\"Python\" [-4])\n",
    "print(\"Python\" [-5])\n",
    "print(\"Python\" [-6])"
   ]
  },
  {
   "cell_type": "code",
   "execution_count": 9,
   "metadata": {},
   "outputs": [
    {
     "name": "stdout",
     "output_type": "stream",
     "text": [
      "['Banana', 'Maça', 'Morango', 'Kiwi']\n"
     ]
    }
   ],
   "source": [
    "#Slicing\n",
    "\n",
    "frutas = [\"Banana\",\"Maça\",\"Morango\",\"Kiwi\",\"Manga\"]\n",
    "\n",
    "print ( frutas [:-1])"
   ]
  },
  {
   "cell_type": "code",
   "execution_count": 10,
   "metadata": {},
   "outputs": [
    {
     "name": "stdout",
     "output_type": "stream",
     "text": [
      "['Banana', 'Maça', 'Morango', 'Kiwi']\n",
      "['Banana', 'Maça', 'Morango', 'Kiwi']\n",
      "['Banana', 'Maça', 'Morango']\n"
     ]
    }
   ],
   "source": [
    "#Slicing LISTA [:Fim]\n",
    "\n",
    "frutas = [\"Banana\",\"Maça\",\"Morango\",\"Kiwi\",\"Manga\"]\n",
    "\n",
    "s = slice (None, -1)\n",
    "print(frutas[s])\n",
    "\n",
    "\n",
    "print ( frutas [:-1])\n",
    "print ( frutas [:-2])"
   ]
  },
  {
   "cell_type": "code",
   "execution_count": 2,
   "metadata": {},
   "outputs": [
    {
     "name": "stdout",
     "output_type": "stream",
     "text": [
      "[5, 4, 3, 2, 1]\n",
      "[5, 3, 1]\n"
     ]
    }
   ],
   "source": [
    "# Slicing - Lista [::intervalo]\n",
    "\n",
    "lista = [1,2,3,4,5]\n",
    "\n",
    "print ( lista[::-1])\n",
    "print ( lista[::-2])"
   ]
  },
  {
   "cell_type": "code",
   "execution_count": 3,
   "metadata": {},
   "outputs": [
    {
     "name": "stdout",
     "output_type": "stream",
     "text": [
      "['Banana', 'Maça', 'Morango', 'Kiwi']\n",
      "['Maça', 'Morango', 'Kiwi']\n",
      "['Maça', 'Morango', 'Kiwi']\n"
     ]
    }
   ],
   "source": [
    "# slicing - Lista[inicio:Fim]\n",
    "\n",
    "frutas = [\"Banana\",\"Maça\",\"Morango\",\"Kiwi\",\"Manga\"]\n",
    "\n",
    "print( frutas[:-1])\n",
    "print( frutas[-4:-1])\n",
    "print( frutas[1:-1])\n"
   ]
  }
 ],
 "metadata": {
  "kernelspec": {
   "display_name": "base",
   "language": "python",
   "name": "python3"
  },
  "language_info": {
   "codemirror_mode": {
    "name": "ipython",
    "version": 3
   },
   "file_extension": ".py",
   "mimetype": "text/x-python",
   "name": "python",
   "nbconvert_exporter": "python",
   "pygments_lexer": "ipython3",
   "version": "3.11.5"
  }
 },
 "nbformat": 4,
 "nbformat_minor": 2
}
