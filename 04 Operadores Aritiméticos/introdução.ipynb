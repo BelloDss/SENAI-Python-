{
 "cells": [
  {
   "cell_type": "code",
   "execution_count": 22,
   "metadata": {},
   "outputs": [
    {
     "name": "stdout",
     "output_type": "stream",
     "text": [
      "17\n",
      "15\n"
     ]
    }
   ],
   "source": [
    "# A soma é feita assim\n",
    "\n",
    "print (8 + 9)\n",
    "\n",
    "x = 5\n",
    "\n",
    "print (10 + x)"
   ]
  },
  {
   "cell_type": "code",
   "execution_count": 23,
   "metadata": {},
   "outputs": [
    {
     "name": "stdout",
     "output_type": "stream",
     "text": [
      "4\n",
      "6\n"
     ]
    }
   ],
   "source": [
    "# A subtração é feita assim\n",
    "print (8 - 4)\n",
    "\n",
    "x = 4\n",
    "\n",
    "print (10 - x)"
   ]
  },
  {
   "cell_type": "code",
   "execution_count": 24,
   "metadata": {},
   "outputs": [
    {
     "name": "stdout",
     "output_type": "stream",
     "text": [
      "16\n",
      "30\n"
     ]
    }
   ],
   "source": [
    "# A multiplicação é feita assim\n",
    "print (8 * 2)\n",
    "\n",
    "x = 3\n",
    "\n",
    "print (10 * x)"
   ]
  },
  {
   "cell_type": "code",
   "execution_count": 25,
   "metadata": {},
   "outputs": [
    {
     "name": "stdout",
     "output_type": "stream",
     "text": [
      "2.5\n",
      "2.0\n",
      "4.0\n",
      "3.3000000000000003\n",
      "3.0\n"
     ]
    }
   ],
   "source": [
    "#  Divisão /\n",
    "# toda divisão retorna um numero de pont fluatuante (decimal)\n",
    "\n",
    "print (5/2)\n",
    "print (4/2)\n",
    "print (10/2.5)\n",
    "print (9.9/3)\n",
    "print (7.5/2.5) #float/ float"
   ]
  },
  {
   "cell_type": "code",
   "execution_count": 26,
   "metadata": {},
   "outputs": [
    {
     "name": "stdout",
     "output_type": "stream",
     "text": [
      "2.5\n",
      "2\n",
      "3.966666666666667\n",
      "3.0\n"
     ]
    }
   ],
   "source": [
    "# Divisão inteira //\n",
    "\n",
    "print (5/2)\n",
    "print (5//2)\n",
    "\n",
    "print (11.9/3)\n",
    "print (11.9//3)"
   ]
  },
  {
   "cell_type": "code",
   "execution_count": 27,
   "metadata": {},
   "outputs": [
    {
     "name": "stdout",
     "output_type": "stream",
     "text": [
      "1.0\n",
      "0\n",
      "0\n",
      "1\n",
      "2\n"
     ]
    }
   ],
   "source": [
    "# Modulo % - Retorna o RESTO DA DIVISÃO\n",
    "\n",
    "# os que são zero (0) são divisiveis\n",
    "\n",
    "print (2/2)\n",
    "print (2%2)\n",
    "\n",
    "\n",
    "print (3%3) # resto 0\n",
    "print (4%3)# resto 0\n",
    "print (5%3)# resto 0"
   ]
  },
  {
   "cell_type": "code",
   "execution_count": 28,
   "metadata": {},
   "outputs": [
    {
     "name": "stdout",
     "output_type": "stream",
     "text": [
      "3.3333333333333335\n"
     ]
    }
   ],
   "source": [
    "# divisião com dizima \n",
    "print (10/3)\n"
   ]
  },
  {
   "cell_type": "code",
   "execution_count": 29,
   "metadata": {},
   "outputs": [
    {
     "name": "stdout",
     "output_type": "stream",
     "text": [
      "1\n",
      "1\n",
      "1\n",
      "1\n"
     ]
    }
   ],
   "source": [
    "# Modulo - Par ou impar\n",
    "\n",
    "print (1 % 2) #impar\n",
    "print (1 % 2) #par \n",
    "print (1 % 2) #impar\n",
    "print (1 % 2) #par"
   ]
  },
  {
   "cell_type": "code",
   "execution_count": 30,
   "metadata": {},
   "outputs": [
    {
     "name": "stdout",
     "output_type": "stream",
     "text": [
      "0\n",
      "1\n",
      "2\n",
      "0\n",
      "6\n",
      "0\n"
     ]
    }
   ],
   "source": [
    "# Modulo - como saber se é divisivel\n",
    "\n",
    "# se der 0 é divisiel e se der 1 ou resto não é\n",
    "\n",
    "print (9 % 3) #impar\n",
    "print (10 % 3) #par \n",
    "print (11 % 3) #impar\n",
    "print (12 % 3) #par\n",
    "\n",
    "print ( 685 % 7) # não é divisivel por 7\n",
    "print ( 686 % 7) # é divisivel por 7"
   ]
  },
  {
   "cell_type": "code",
   "execution_count": 31,
   "metadata": {},
   "outputs": [
    {
     "name": "stdout",
     "output_type": "stream",
     "text": [
      "64\n"
     ]
    }
   ],
   "source": [
    "# Exponenciação ou potenciação **\n",
    "\n",
    "print (4**3) "
   ]
  },
  {
   "cell_type": "code",
   "execution_count": 34,
   "metadata": {},
   "outputs": [
    {
     "name": "stdout",
     "output_type": "stream",
     "text": [
      "42\n",
      "7.0\n",
      "12\n",
      "5.0\n"
     ]
    }
   ],
   "source": [
    "# oredem de precedencia \n",
    "\n",
    "# parentesis ()\n",
    "# expoentes **\n",
    "# multiplicaçao e divisao * e /\n",
    "# Somas e subtraçao + e -\n",
    "\n",
    "var = 2 + 10*4 \n",
    "print (var)\n",
    "\n",
    "var2 = 8 - 4/4\n",
    "print(var2)\n",
    "\n",
    "var3 = 3*2 **2\n",
    "print (var3)\n",
    "\n",
    "var4 = (4 + 4 / (2 + 2 ))\n",
    "print (var4)"
   ]
  }
 ],
 "metadata": {
  "kernelspec": {
   "display_name": "base",
   "language": "python",
   "name": "python3"
  },
  "language_info": {
   "codemirror_mode": {
    "name": "ipython",
    "version": 3
   },
   "file_extension": ".py",
   "mimetype": "text/x-python",
   "name": "python",
   "nbconvert_exporter": "python",
   "pygments_lexer": "ipython3",
   "version": "3.11.5"
  }
 },
 "nbformat": 4,
 "nbformat_minor": 2
}
