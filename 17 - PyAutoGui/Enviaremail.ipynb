{
 "cells": [
  {
   "cell_type": "code",
   "execution_count": 29,
   "metadata": {},
   "outputs": [],
   "source": [
    "import pyautogui\n",
    "\n",
    "# tempo para as ações\n",
    "pyautogui.PAUSE = 2\n",
    "\n",
    "# selecionar o chrome na barra de tarefas\n",
    "pyautogui.click(x=1096, y=1035)\n",
    "\n",
    "# pesquisar no google\n",
    "pyautogui.write(\"gmail.com.br\") \n",
    "pyautogui.press(\"enter\")\n",
    "\n",
    "# Após entrar, clicar em novo emal e colocar o destinario\n",
    "pyautogui.click(x=101, y=230)\n",
    "pyautogui.write(\"matheusbello22@outlook.com\") \n",
    "\n",
    "# pular linhas\n",
    "pyautogui.press(\"tab\")\n",
    "pyautogui.press(\"tab\")\n",
    "\n",
    "# Assunto do email\n",
    "pyautogui.write(\"Voce é uma rapaz muito bonito.\")\n",
    "pyautogui.press(\"tab\")\n",
    "\n",
    "# texto do email, e selecionar enviar.\n",
    "\n",
    "msg = \"\"\"Prezados,\n",
    "\n",
    "\n",
    "segue abaixo a produção do dia:\n",
    "\n",
    "- peças produzidas : 89\n",
    "- peças em estoque: 59\n",
    "- peças transportadas:\n",
    "\n",
    "\"\"\"\n",
    "\n",
    "pyautogui.write(msg)\n",
    "pyautogui.click (x=1211, y=986)\n",
    "\n",
    "\n",
    "# pyautogui.click(x=1096, y=1035) - posição (usando o position e o sleep para selecionar a posição fora do visual)\n",
    "# write - pede pra digitar\n",
    "# press - selecionar "
   ]
  },
  {
   "cell_type": "code",
   "execution_count": 27,
   "metadata": {},
   "outputs": [
    {
     "data": {
      "text/plain": [
       "Point(x=1211, y=986)"
      ]
     },
     "execution_count": 27,
     "metadata": {},
     "output_type": "execute_result"
    }
   ],
   "source": [
    "pyautogui.sleep(5)\n",
    "\n",
    "pyautogui.position()\n"
   ]
  }
 ],
 "metadata": {
  "kernelspec": {
   "display_name": "base",
   "language": "python",
   "name": "python3"
  },
  "language_info": {
   "codemirror_mode": {
    "name": "ipython",
    "version": 3
   },
   "file_extension": ".py",
   "mimetype": "text/x-python",
   "name": "python",
   "nbconvert_exporter": "python",
   "pygments_lexer": "ipython3",
   "version": "3.11.5"
  }
 },
 "nbformat": 4,
 "nbformat_minor": 2
}
