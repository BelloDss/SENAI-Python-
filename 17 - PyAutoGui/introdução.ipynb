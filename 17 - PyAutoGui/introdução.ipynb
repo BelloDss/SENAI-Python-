{
 "cells": [
  {
   "cell_type": "code",
   "execution_count": 2,
   "metadata": {},
   "outputs": [],
   "source": [
    "import pyautogui \n",
    "\n",
    "valor1 = list(input(\"Digite o primeiro numero\"))\n",
    "valor2 = list(input(\"Digite o segundo numero\"))\n",
    "op = input(\"Digite a operação\")\n",
    "\n",
    "# intevalo de segundo entre um comando e outro \n",
    "pyautogui.PAUSE= 2\n",
    "\n",
    "# Direciona o click\n",
    "pyautogui.click(x=645, y=1050)\n",
    "\n",
    "# Escreva o texto informado \n",
    "pyautogui.write(\"Calculadora\")\n",
    "\n",
    "# Pressiona uma tecla \n",
    "pyautogui.press(\"enter\")\n",
    "\n",
    "\n",
    "# pyautogui.press(\"7\")\n",
    "# pyautogui.press(\"+\")\n",
    "# pyautogui.press(\"8\")\n",
    "# pyautogui.press(\"=\") -- ou\n",
    " \n",
    "\n",
    "pyautogui.press(valor1)\n",
    "pyautogui.press(op)\n",
    "pyautogui.press(valor2)\n",
    "pyautogui.press('enter')\n",
    " "
   ]
  },
  {
   "cell_type": "code",
   "execution_count": 27,
   "metadata": {},
   "outputs": [
    {
     "name": "stdout",
     "output_type": "stream",
     "text": [
      "Point(x=937, y=490)\n"
     ]
    }
   ],
   "source": [
    "# position retorna a posição do mouse - Segurar (CTRL + ENTER)\n",
    "print(pyautogui.position())\n"
   ]
  }
 ],
 "metadata": {
  "kernelspec": {
   "display_name": "base",
   "language": "python",
   "name": "python3"
  },
  "language_info": {
   "codemirror_mode": {
    "name": "ipython",
    "version": 3
   },
   "file_extension": ".py",
   "mimetype": "text/x-python",
   "name": "python",
   "nbconvert_exporter": "python",
   "pygments_lexer": "ipython3",
   "version": "3.11.5"
  }
 },
 "nbformat": 4,
 "nbformat_minor": 2
}
