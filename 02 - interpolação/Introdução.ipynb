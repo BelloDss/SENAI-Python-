{
 "cells": [
  {
   "cell_type": "code",
   "execution_count": 5,
   "metadata": {},
   "outputs": [
    {
     "name": "stdout",
     "output_type": "stream",
     "text": [
      "O valor da variável a é {a} e o valor da variável b é {b}\n",
      "O valor da variável a é a e o valor da variável b é b\n",
      "O valor da variável a é 3 e o valor da variável b é 7\n",
      "O valor da variável a é 3 e o valor da variável b é 7\n"
     ]
    }
   ],
   "source": [
    "a = 3\n",
    "b = 7\n",
    "\n",
    "#Errado\n",
    "print(\"O valor da variável a é {a} e o valor da variável b é {b}\")\n",
    "print(f\"O valor da variável a é a e o valor da variável b é b\")\n",
    "\n",
    "# Certo\n",
    "print(f\"O valor da variável a é {a} e o valor da variável b é {b}\")\n",
    "\n",
    "# Equivalente\n",
    "print(\"O valor da variável a é\", a, \"e o valor da variável b é\", b)"
   ]
  },
  {
   "cell_type": "code",
   "execution_count": 6,
   "metadata": {},
   "outputs": [
    {
     "name": "stdout",
     "output_type": "stream",
     "text": [
      "a + b = a + b\n",
      "5 + 3 = 8\n"
     ]
    }
   ],
   "source": [
    "# Expressões\n",
    "a = 5\n",
    "b = 3\n",
    "\n",
    "print(\"a + b = a + b\")\n",
    "print(f\"{a} + {b} = {a + b}\")"
   ]
  },
  {
   "cell_type": "code",
   "execution_count": null,
   "metadata": {},
   "outputs": [
    {
     "name": "stdout",
     "output_type": "stream",
     "text": [
      "Você tem 21 anos de idade\n"
     ]
    }
   ],
   "source": [
    "# Respostas mais completas\n",
    "\n",
    "idade = input(\"Digite a sua idade:\")\n",
    "print(f\"Você tem {idade} anos de idade\")"
   ]
  },
  {
   "cell_type": "code",
   "execution_count": 9,
   "metadata": {},
   "outputs": [
    {
     "name": "stdout",
     "output_type": "stream",
     "text": [
      "23/1/2025\n",
      "1/23/2025\n"
     ]
    }
   ],
   "source": [
    "dia = 23\n",
    "mes = 1\n",
    "ano = 2025\n",
    "\n",
    "print(f\"{dia}/{mes}/{ano}\") # BRA\n",
    "print(f\"{mes}/{dia}/{ano}\") # EUA"
   ]
  },
  {
   "cell_type": "code",
   "execution_count": null,
   "metadata": {},
   "outputs": [],
   "source": [
    "# Números decimais - Separados por \"ponto\"\n",
    "num1 = 1.5\n",
    "num2 = 2.99\n",
    "num3 = 10.456"
   ]
  },
  {
   "cell_type": "code",
   "execution_count": 18,
   "metadata": {},
   "outputs": [
    {
     "name": "stdout",
     "output_type": "stream",
     "text": [
      "3.3333333333333335\n",
      "3\n",
      "3.3\n",
      "3.33\n",
      "3.333\n"
     ]
    }
   ],
   "source": [
    "# round() - Arredondar valores\n",
    "div = 10 / 3\n",
    "\n",
    "print( div )\n",
    "print( round(div) )\n",
    "print( round(div, 1) )\n",
    "print( round(div, 2) )\n",
    "print( round(div, 3) )"
   ]
  },
  {
   "cell_type": "code",
   "execution_count": 27,
   "metadata": {},
   "outputs": [
    {
     "name": "stdout",
     "output_type": "stream",
     "text": [
      "3.3333333333333335\n",
      "3\n",
      "3.3\n",
      "3.33\n",
      "3.333\n"
     ]
    }
   ],
   "source": [
    "# format - Arredondar valores\n",
    "div = 10  / 3\n",
    "\n",
    "print( div )\n",
    "# print( div:.0f )     # Errado\n",
    "print(f\"{div:.0f}\")\n",
    "print(f\"{div:.1f}\")\n",
    "print(f\"{div:.2f}\")\n",
    "print(f\"{div:.3f}\")"
   ]
  },
  {
   "cell_type": "code",
   "execution_count": 31,
   "metadata": {},
   "outputs": [
    {
     "name": "stdout",
     "output_type": "stream",
     "text": [
      "Total a pagar: 120.45678\n",
      "Total a pagar: 120.46\n"
     ]
    }
   ],
   "source": [
    "# Interpolação com funções\n",
    "preco = 120.45678\n",
    "\n",
    "print(f\"Total a pagar: {preco}\")\n",
    "print(f\"Total a pagar: { round(preco, 2) }\")"
   ]
  },
  {
   "cell_type": "code",
   "execution_count": 34,
   "metadata": {},
   "outputs": [
    {
     "name": "stdout",
     "output_type": "stream",
     "text": [
      "1000000\n",
      "1000000\n"
     ]
    }
   ],
   "source": [
    "# Separador de milhar\n",
    "valor1 = 1_000_000\n",
    "valor2 = 1_00_00_00\n",
    "\n",
    "print(valor1)\n",
    "print(valor2)"
   ]
  },
  {
   "cell_type": "code",
   "execution_count": 37,
   "metadata": {},
   "outputs": [
    {
     "name": "stdout",
     "output_type": "stream",
     "text": [
      "1000000.99\n",
      "1,000,000.99\n",
      "1_000_000.99\n"
     ]
    }
   ],
   "source": [
    "# Separador de milhar\n",
    "valor = 1_000_000.99\n",
    "\n",
    "print(f\"{valor:.2f}\")\n",
    "print(f\"{valor:,.2f}\")\n",
    "print(f\"{valor:_.2f}\")"
   ]
  },
  {
   "cell_type": "code",
   "execution_count": 46,
   "metadata": {},
   "outputs": [
    {
     "name": "stdout",
     "output_type": "stream",
     "text": [
      "Nome: Thiago Escola: SENAI\n",
      "Nome: Thiago \n",
      "Escola: SENAI\n"
     ]
    }
   ],
   "source": [
    "# Textos de múltiplas linhas\n",
    "print(\"Nome: Thiago Escola: SENAI\")\n",
    "print(\"Nome: Thiago \\nEscola: SENAI\")"
   ]
  },
  {
   "cell_type": "code",
   "execution_count": 47,
   "metadata": {},
   "outputs": [
    {
     "name": "stdout",
     "output_type": "stream",
     "text": [
      "Nome: Thiago\n",
      "Escola: SENAI\n",
      "Nome: Thiago\n",
      "Escola: SENAI\n"
     ]
    }
   ],
   "source": [
    "# Textos de múltiplas linhas\n",
    "print(\"\"\"Nome: Thiago\n",
    "Escola: SENAI\"\"\")\n",
    "\n",
    "print('''Nome: Thiago\n",
    "Escola: SENAI''')"
   ]
  },
  {
   "cell_type": "code",
   "execution_count": 48,
   "metadata": {},
   "outputs": [
    {
     "name": "stdout",
     "output_type": "stream",
     "text": [
      "Dia: 23\n",
      "Mês: 1\n",
      "Ano: 2025\n"
     ]
    }
   ],
   "source": [
    "dia = 23\n",
    "mes = 1\n",
    "ano = 2025\n",
    "\n",
    "print(f\"\"\"Dia: {dia}\n",
    "Mês: {mes}\n",
    "Ano: {ano}\"\"\")"
   ]
  },
  {
   "cell_type": "code",
   "execution_count": 2,
   "metadata": {},
   "outputs": [
    {
     "name": "stdout",
     "output_type": "stream",
     "text": [
      "Curso: ADS\n",
      "Curso: ADS\n"
     ]
    }
   ],
   "source": [
    "# f-string - Python >= 3.6\n",
    "# format   - Python >= 2.0\n",
    "\n",
    "curso = \"ADS\"\n",
    "\n",
    "print(f\"Curso: {curso}\") # f-string\n",
    "print(\"Curso: {}\".format(curso)) # format"
   ]
  },
  {
   "cell_type": "code",
   "execution_count": 5,
   "metadata": {},
   "outputs": [
    {
     "name": "stdout",
     "output_type": "stream",
     "text": [
      "Meu nome Thiago minha profissão é Instrutor\n"
     ]
    }
   ],
   "source": [
    "nome = \"Thiago\"\n",
    "profissao = \"Instrutor\"\n",
    "\n",
    "print(\"Meu nome {} minha profissão é {}\".format(nome, profissao))"
   ]
  }
 ],
 "metadata": {
  "kernelspec": {
   "display_name": "base",
   "language": "python",
   "name": "python3"
  },
  "language_info": {
   "codemirror_mode": {
    "name": "ipython",
    "version": 3
   },
   "file_extension": ".py",
   "mimetype": "text/x-python",
   "name": "python",
   "nbconvert_exporter": "python",
   "pygments_lexer": "ipython3",
   "version": "3.11.5"
  }
 },
 "nbformat": 4,
 "nbformat_minor": 2
}
