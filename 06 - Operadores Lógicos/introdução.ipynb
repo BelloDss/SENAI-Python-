{
 "cells": [
  {
   "cell_type": "code",
   "execution_count": 4,
   "metadata": {},
   "outputs": [
    {
     "name": "stdout",
     "output_type": "stream",
     "text": [
      "Pode dirigir\n"
     ]
    }
   ],
   "source": [
    "# Verificar se pode dirigir\n",
    "\n",
    "idade = 18\n",
    "cnh = \"Sim\"\n",
    "\n",
    "\n",
    "if idade >= 18 and cnh ==\"Sim\":\n",
    "    print(\"Pode dirigir\")\n",
    "else:\n",
    "    print (\"nao pode \")"
   ]
  },
  {
   "cell_type": "code",
   "execution_count": 6,
   "metadata": {},
   "outputs": [
    {
     "name": "stdout",
     "output_type": "stream",
     "text": [
      "reprovado\n"
     ]
    }
   ],
   "source": [
    "nota = 5.0\n",
    "frequencia = 70\n",
    "comportamento = \"Ruim\"\n",
    "\n",
    "if nota >= 5 and frequencia >= 75 and comportamento == \"bom\":\n",
    "    print(\"APROVADO\")\n",
    "\n",
    "else:\n",
    "    print(\"reprovado\")"
   ]
  },
  {
   "cell_type": "code",
   "execution_count": 9,
   "metadata": {},
   "outputs": [
    {
     "name": "stdout",
     "output_type": "stream",
     "text": [
      "APROVADO\n"
     ]
    }
   ],
   "source": [
    "nota = 10\n",
    "frequencia = 100\n",
    "comportamento = \"bom\"\n",
    "\n",
    "if nota >= 5 and frequencia >= 75 and comportamento == \"bom\":\n",
    "    print(\"APROVADO\")\n",
    "\n",
    "else:\n",
    "    print(\"reprovado\")"
   ]
  },
  {
   "cell_type": "code",
   "execution_count": 4,
   "metadata": {},
   "outputs": [
    {
     "name": "stdout",
     "output_type": "stream",
     "text": [
      "True\n",
      "False\n",
      "False\n",
      "False\n",
      " Tabela or\n",
      "True\n",
      "True\n",
      "True\n",
      "False\n"
     ]
    }
   ],
   "source": [
    "#Tabela verdade\n",
    "# A instrução and só retorna verdade\n",
    "# se todas as expressoes forem true\n",
    "\n",
    "print (True and True) #true\n",
    "print (True and False) #False\n",
    "print (False and True) #false\n",
    "print (False and False)#False\n",
    "\n",
    "print(\" Tabela or\")\n",
    "\n",
    "print (True  or True) #true\n",
    "print (True  or False) #False\n",
    "print (False or True) #false\n",
    "print (False or False)#False"
   ]
  },
  {
   "cell_type": "code",
   "execution_count": 2,
   "metadata": {},
   "outputs": [
    {
     "name": "stdout",
     "output_type": "stream",
     "text": [
      "A encomanda será entregues este mes\n"
     ]
    }
   ],
   "source": [
    "mes = \"Janeiro\"\n",
    "dia = 15\n",
    "\n",
    "if mes == 'Janeiro' and dia <= 15:\n",
    "    print (\"A encomanda será entregues este mes\")\n",
    "else:\n",
    "    (\"Não há previsão para entrega\")\n",
    "\n"
   ]
  },
  {
   "cell_type": "code",
   "execution_count": null,
   "metadata": {},
   "outputs": [],
   "source": [
    "anos = 4\n",
    "comportamento = \"ruim\"\n",
    "\n",
    "if anos >= 3 or comportamento ==\"bom\":\n",
    "    print(\"Tem direito a premiação\")\n",
    "else: \n",
    "    print(\"Não tem direito a premiação\")"
   ]
  },
  {
   "cell_type": "code",
   "execution_count": 5,
   "metadata": {},
   "outputs": [
    {
     "name": "stdout",
     "output_type": "stream",
     "text": [
      " o produto está disponivel\n"
     ]
    }
   ],
   "source": [
    "estoque_loja1 = 5\n",
    "estoque_loja2 = 6\n",
    "\n",
    "if estoque_loja1 or estoque_loja2 > 0:\n",
    "    print (\" o produto está disponivel\")\n",
    "\n",
    "else:\n",
    "    print(\"o produto está disponivel\")\n"
   ]
  },
  {
   "cell_type": "code",
   "execution_count": null,
   "metadata": {},
   "outputs": [],
   "source": [
    "# intervalo de valores\n",
    "\n",
    "nota = 4.0\n",
    "\n",
    "if nota >= 5:\n",
    "    print(\"Aprovado com exelecnia\")\n",
    "elif nota >= 5 and nota < 8:\n",
    "    print(\"aprovado\")\n",
    "elif nota >= 3 and nota < 5:\n",
    "    print(\"recuperação\")\n",
    "else:\n",
    "    print(\"reprovado\")\n"
   ]
  },
  {
   "cell_type": "code",
   "execution_count": 14,
   "metadata": {},
   "outputs": [
    {
     "name": "stdout",
     "output_type": "stream",
     "text": [
      "Novo! Zero KM\n"
     ]
    }
   ],
   "source": [
    "ano = 2025\n",
    "\n",
    "\n",
    "if ano == 2025:\n",
    "    print(\"Novo! Zero KM\")\n",
    "elif ano >= 2020 < 2025:\n",
    "    print(\"Seminovo\")\n",
    "elif ano >= 2000 < 2020:\n",
    "    print(\"usado\")\n",
    "elif ano < 2000:\n",
    "    print(\"classico\")\n",
    "\n",
    "    \n"
   ]
  },
  {
   "cell_type": "code",
   "execution_count": null,
   "metadata": {},
   "outputs": [],
   "source": [
    "ano = 2025\n",
    "\n",
    "if ano == 2025:\n",
    "    print(\"Novo! Zero KM\")\n",
    "\n",
    "elif ano >= 2020 and ano < 2025:\n",
    "    print(\"Seminovo\")\n",
    "\n",
    "elif ano >= 2000 and ano< 2020:\n",
    "    print(\"usado\")\n",
    "\n",
    "else:\n",
    "    print(\"classico\")"
   ]
  },
  {
   "cell_type": "code",
   "execution_count": null,
   "metadata": {},
   "outputs": [],
   "source": [
    "n1 = 5\n",
    "n2 = 3\n",
    "\n",
    "#o pyhton vai parar na primeira que der True caso tenha mais de uma \n",
    "\n",
    "if n1 > n2:\n",
    "    print(\"Alternatinva 1\")\n",
    "elif n1 > n2:\n",
    "    print(\"Alternatinva 2\")\n",
    "elif n1 > n2:\n",
    "    print(\"Alternatinva 3\")\n",
    "elif n1 > n2:\n",
    "    print(\"Alternatinva 4\")\n"
   ]
  },
  {
   "cell_type": "code",
   "execution_count": 20,
   "metadata": {},
   "outputs": [
    {
     "name": "stdout",
     "output_type": "stream",
     "text": [
      "True\n",
      "False\n",
      "True\n",
      "True\n",
      "False\n"
     ]
    }
   ],
   "source": [
    "print (bool(\"qualquer coisa\"))\n",
    "print (bool(0))\n",
    "print (bool(1))\n",
    "print (bool(-1))\n",
    "print (bool(0))"
   ]
  }
 ],
 "metadata": {
  "kernelspec": {
   "display_name": "base",
   "language": "python",
   "name": "python3"
  },
  "language_info": {
   "codemirror_mode": {
    "name": "ipython",
    "version": 3
   },
   "file_extension": ".py",
   "mimetype": "text/x-python",
   "name": "python",
   "nbconvert_exporter": "python",
   "pygments_lexer": "ipython3",
   "version": "3.11.5"
  }
 },
 "nbformat": 4,
 "nbformat_minor": 2
}
