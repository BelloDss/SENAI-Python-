{
 "cells": [
  {
   "cell_type": "markdown",
   "id": "b88f4fa7-3792-442a-951b-efcad1f64de4",
   "metadata": {},
   "source": [
    "# <font color='OrangeRed'><center>Desafio 01 - Tkinter</center></font>"
   ]
  },
  {
   "cell_type": "markdown",
   "id": "78b3c916-1770-4412-8407-f1498a3e9933",
   "metadata": {
    "tags": []
   },
   "source": [
    "### Execute as etapas abaixo para criar uma programa que calcule o IMC:\n",
    "\n",
    "1. Importe a biblioteca **tkinter**.\n",
    "1. Crie uma label com o título **Cálculo de IMC**.\n",
    "1. Crie uma label com o texto **Digite o seu Peso**.\n",
    "1. Utilizando o método Entry, crie uma entrada de texto para receber o peso do usuário.\n",
    "1. Crie uma label com o texto **Digite a sua Altura**.\n",
    "1. Utilizando o método Entry, crie uma entrada de texto para receber a altura do usuário.\n",
    "1. Crie uma função chamada **calcular** para calcular o IMC do usuário:\n",
    "    * A função deve ser criada no início do programa\n",
    "    * A formúla do IMC é: **Peso / (Altura*Altura)**\n",
    "1. Utilizando o método Button, crie um botão com os parâmentros abaixo:\n",
    "    * Insira o texto **Calcular** para o parâmetro **text**.\n",
    "    * Insira a função **calcular** para o parâmetro **command**.\n",
    "1. Crie uma label sem texto que receberá o resultado do cálculo do IMC quando o botão for acionado.\n",
    "\n",
    "----\n",
    "\n",
    "**Resultado esperado**:  \n",
    "<img src='tkinter_desafio_imc1.png'> <img src='tkinter_desafio_imc2.png'>  \n",
    "_*Não precisa ficar igual_  \n",
    "\n",
    "---"
   ]
  },
  {
   "cell_type": "code",
   "execution_count": 2,
   "id": "fb9c3fd4-0b13-4834-8751-6418e98c6956",
   "metadata": {},
   "outputs": [],
   "source": [
    "import tkinter\n",
    "\n",
    "app = tkinter.Tk()\n",
    "\n",
    "# -----------------------\n",
    "def somaimc():\n",
    "\n",
    "    peso = int(input_valor1.get())\n",
    "    altura = float(input_valor2.get())\n",
    "    imc = peso / (altura*altura)\n",
    "\n",
    "    (txt_resultado.configure(text= imc))\n",
    "\n",
    "#Titulo do App\n",
    "app.title(\"Soma de IMC\")\n",
    "app.geometry(\"230x300\")\n",
    "\n",
    "#Titulo e tamanho/design\n",
    "txt_titulo = tkinter.Label(app,text=\"Calculo de IMC\", font =(\"Times\",20))\n",
    "txt_titulo.grid(column=0, row=0, padx=20)\n",
    "\n",
    "# --------------------------------------------------\n",
    "# Texto 1 e Caixa de texto 1\n",
    "\n",
    "txt_valor1 = tkinter.Label(app, text=\"Digite seu Peso:\")\n",
    "txt_valor1.grid(column=0, row=1, padx=10,)\n",
    "\n",
    "input_valor1 = tkinter.Entry(app)  \n",
    "input_valor1.grid(column=0, row=2)\n",
    "\n",
    "# --------------------------------------------------\n",
    "# Texto 2 e Caixa de texto 2\n",
    "\n",
    "txt_valor2 = tkinter.Label(app, text=\"Digite sua Altura:\")\n",
    "txt_valor2.grid(column=0, row=3, padx=10,)\n",
    "\n",
    "input_valor2 = tkinter.Entry(app)\n",
    "input_valor2.grid(column=0, row=4)\n",
    "# -------------------------------------------------\n",
    "# botao - somar\n",
    "botao = tkinter.Button (app,text=\"Somar Valores\", command=somaimc, width=20, font=(\"Forte\",12))\n",
    "botao.grid(column=0, row=5, columnspan=2)\n",
    "\n",
    "txt_resultado = tkinter.Label (app, text=\"\")\n",
    "txt_resultado.grid(column=0,row=6,columnspan=2, pady=20) #pady da um espaçamento- padding\n",
    "\n",
    "\n",
    "\n",
    "\n",
    "\n",
    "\n",
    "app.mainloop()\n"
   ]
  }
 ],
 "metadata": {
  "kernelspec": {
   "display_name": "base",
   "language": "python",
   "name": "python3"
  },
  "language_info": {
   "codemirror_mode": {
    "name": "ipython",
    "version": 3
   },
   "file_extension": ".py",
   "mimetype": "text/x-python",
   "name": "python",
   "nbconvert_exporter": "python",
   "pygments_lexer": "ipython3",
   "version": "3.11.5"
  }
 },
 "nbformat": 4,
 "nbformat_minor": 5
}
