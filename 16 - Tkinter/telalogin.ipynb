{
 "cells": [
  {
   "cell_type": "code",
   "execution_count": 8,
   "metadata": {},
   "outputs": [],
   "source": [
    "import tkinter\n",
    "import tkinter.messagebox\n",
    "\n",
    "app = tkinter.Tk()\n",
    "\n",
    "\n",
    "def logar():\n",
    "  \n",
    "    user = input_usuario.get()\n",
    "    senha = input_senha.get()\n",
    "\n",
    "    if user == \"bello\" and senha == \"abc\":\n",
    "        \n",
    "        # gerar uma nova tela\n",
    "        app2 = tkinter.Toplevel()\n",
    "        app2.title(\"Menu principal\")\n",
    "\n",
    "        txt_saudacao = tkinter.Label(app2, text=\"Seja bem-vindo Nanias\", font=('arial', 13, 'bold'))\n",
    "        txt_saudacao.grid(column=0, row=0)\n",
    "\n",
    "    else:\n",
    "        tkinter.messagebox.showerror(title=\"Usuario invalido\", message= \"Usuario ou senha incorretos\")\n",
    "\n",
    "app.title(\"Tela de Login\")\n",
    "\n",
    "app.geometry(\"300x300\")\n",
    "\n",
    "txt_titulo = tkinter.Label(app, text=\"Tela de login\")\n",
    "txt_titulo.grid(column=0, row=0)\n",
    "\n",
    "txt_usuario = tkinter.Label(app, text=\"Usuario:\")\n",
    "txt_usuario.grid(column=0, row=1)\n",
    "\n",
    "input_usuario = tkinter.Entry(app)\n",
    "input_usuario.grid(column=1, row=1)\n",
    "\n",
    "txt_senha = tkinter.Label(app, text=(\"Senha\"))\n",
    "txt_senha.grid(column=0, row=2)\n",
    "\n",
    "input_senha = tkinter.Entry(app, show=\"*\")\n",
    "input_senha.grid(column=1,row=2)\n",
    "\n",
    "\n",
    "botao = tkinter.Button(app, text=\"Entrar\", command=logar)\n",
    "botao.grid(column=0, row=3)\n",
    "\n",
    "\n",
    "app.mainloop() \n"
   ]
  },
  {
   "cell_type": "markdown",
   "metadata": {},
   "source": []
  }
 ],
 "metadata": {
  "kernelspec": {
   "display_name": "base",
   "language": "python",
   "name": "python3"
  },
  "language_info": {
   "codemirror_mode": {
    "name": "ipython",
    "version": 3
   },
   "file_extension": ".py",
   "mimetype": "text/x-python",
   "name": "python",
   "nbconvert_exporter": "python",
   "pygments_lexer": "ipython3",
   "version": "3.11.5"
  }
 },
 "nbformat": 4,
 "nbformat_minor": 2
}
