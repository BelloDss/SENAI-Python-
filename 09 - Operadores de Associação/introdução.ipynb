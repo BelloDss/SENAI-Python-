{
 "cells": [
  {
   "cell_type": "code",
   "execution_count": 3,
   "metadata": {},
   "outputs": [
    {
     "name": "stdout",
     "output_type": "stream",
     "text": [
      "True\n",
      "False\n"
     ]
    }
   ],
   "source": [
    "frutas= [\"Banana\",\"Mamão\",\"Abacate\",\"Abacaxi\"]\n",
    "\n",
    "print(\"Banana\" in frutas)       #True\n",
    "# veja se banana esta na lista frutas\n",
    "print(\"Morango\" in frutas)  #False"
   ]
  },
  {
   "cell_type": "code",
   "execution_count": null,
   "metadata": {},
   "outputs": [],
   "source": [
    "frutas= [\"Banana\",\"Mamão\",\"Abacate\",\"Abacaxi\"]\n",
    "\n",
    "print(\"Banana\" in frutas or \"Morango\" in frutas)\n",
    "print(\"Banana\" in frutas and \"Morango\" in frutas)"
   ]
  },
  {
   "cell_type": "code",
   "execution_count": null,
   "metadata": {},
   "outputs": [],
   "source": [
    "# Podemos utiliar operadores de associação com Strings \n",
    "\n",
    "curso = \"HTML\"\n",
    "\n",
    "# Letra in palavra\n",
    "print (\"H\" in curso)\n",
    "print (\"N\" in \"HTML\")\n",
    "\n",
    "\n"
   ]
  },
  {
   "cell_type": "code",
   "execution_count": null,
   "metadata": {},
   "outputs": [],
   "source": [
    "# Podemos utiliar operadores de associação com Strings \n",
    "\n",
    "curso = \"HTML\"\n",
    "letra = \"T\"\n",
    "\n",
    "# Letra in palavra\n",
    "print (\"H\" in curso)\n",
    "print (\"N\" in \"HTML\")\n",
    "print (letra in \"HTML\")\n",
    "print (letra in curso)\n",
    "\n",
    "\n",
    "\n",
    "\n"
   ]
  },
  {
   "cell_type": "code",
   "execution_count": 4,
   "metadata": {},
   "outputs": [
    {
     "name": "stdout",
     "output_type": "stream",
     "text": [
      "True\n",
      "False\n"
     ]
    }
   ],
   "source": [
    "# Operador \"not in\"\n",
    "\n",
    "nomes = [\"Pedro\",\"Jefs\",\"Nanias\",\"Douglas\"]\n",
    "\n",
    "\n",
    "# \"not in\"- Verifica se o valor NAO está presente na lista \n",
    "print(\"Cláudio\" not in nomes)\n",
    "print(\"Jefs\" not in nomes)"
   ]
  },
  {
   "cell_type": "code",
   "execution_count": null,
   "metadata": {},
   "outputs": [],
   "source": []
  },
  {
   "cell_type": "code",
   "execution_count": null,
   "metadata": {},
   "outputs": [],
   "source": [
    "# Estrutura condicional - if\n",
    "\n",
    "numeros = [1,2,3,4,5]\n",
    "\n",
    "if 5 in numeros:\n",
    "    print(\"O numero 5 está presemte na lista\")\n",
    "else:\n",
    "    print(\"O numero 5 NÃO está presemte na lista\")"
   ]
  },
  {
   "cell_type": "code",
   "execution_count": null,
   "metadata": {},
   "outputs": [],
   "source": [
    "lings = [\"C\",\"Java\",\"JS\",\"php\"]\n",
    "ling = \"C#\"\n",
    "\n",
    "if ling not in lings:\n",
    "    print(f\"{ling} NÃO está presente na lista\")\n",
    "\n",
    "else:\n",
    "    print(f\"{ling} está presente na lista\")\n",
    "\n",
    "\n"
   ]
  }
 ],
 "metadata": {
  "kernelspec": {
   "display_name": "base",
   "language": "python",
   "name": "python3"
  },
  "language_info": {
   "codemirror_mode": {
    "name": "ipython",
    "version": 3
   },
   "file_extension": ".py",
   "mimetype": "text/x-python",
   "name": "python",
   "nbconvert_exporter": "python",
   "pygments_lexer": "ipython3",
   "version": "3.11.5"
  }
 },
 "nbformat": 4,
 "nbformat_minor": 2
}
