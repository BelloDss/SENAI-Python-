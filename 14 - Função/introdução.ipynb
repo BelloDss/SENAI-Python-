{
 "cells": [
  {
   "cell_type": "code",
   "execution_count": 33,
   "metadata": {},
   "outputs": [
    {
     "name": "stdout",
     "output_type": "stream",
     "text": [
      "A média do Pedro é: 9.375\n",
      "Aprovado, média maior igual a 7\n",
      "\n",
      "A média do Fernanda é: 7.375\n",
      "Aprovado, média maior igual a 7\n",
      "\n",
      "A média do Marcelo é: 5.125\n",
      "Aluno reprovado\n",
      "\n",
      "A média do Gabriela é: 6.375\n",
      "Aluno reprovado\n"
     ]
    }
   ],
   "source": [
    "aluno1 = [10, 9, 8.5, 10]\n",
    "aluno2 = [7.5, 8,7.5, 6.5]\n",
    "aluno3 = [4, 5.5, 4.5, 6.5]\n",
    "aluno4 = [8, 7, 5, 5.5] \n",
    "\n",
    "# ------------------------------------------------- SOMA DA MÉDIA DO PEDRO -----------------------------------------------------------------\n",
    "soma = sum(aluno1)\n",
    "media = soma / len(aluno1)\n",
    "\n",
    "print (f\"A média do Pedro é: {media}\")\n",
    "\n",
    "if media >= 7:\n",
    "    print(\"Aprovado, média maior igual a 7\")\n",
    "else:\n",
    "    print(\"Aluno reprovado\")\n",
    "\n",
    "print()\n",
    "\n",
    "\n",
    "# ------------------------------------------------- SOMA DA MÉDIA DA FERNANDA --------------------------------------------------------------\n",
    "\n",
    "soma = sum(aluno2)\n",
    "media = soma / len(aluno2)\n",
    "\n",
    "print (f\"A média do Fernanda é: {media}\")\n",
    "\n",
    "if media >= 7:\n",
    "    print(\"Aprovado, média maior igual a 7\")\n",
    "\n",
    "else:\n",
    "    print(\"Aluno reprovado\")\n",
    "\n",
    "print()\n",
    "\n",
    "# ------------------------------------------------ SOMA DA MÉDIA DO MARCELO --------------------------------------------------------------------\n",
    "\n",
    "soma = sum(aluno3)\n",
    "media = soma / len(aluno3)\n",
    "\n",
    "print (f\"A média do Marcelo é: {media}\")\n",
    "\n",
    "if media >= 7:\n",
    "    print(\"Aprovado, média maior igual a 7\")\n",
    "\n",
    "else:\n",
    "    print(\"Aluno reprovado\")\n",
    "\n",
    "print()\n",
    "\n",
    "# ------------------------------------------------ SOMA DA MÉDIA DO Gabriela --------------------------------------------------------------------\n",
    "\n",
    "soma = sum(aluno4)\n",
    "media = soma / len(aluno4)\n",
    "\n",
    "print (f\"A média do Gabriela é: {media}\")\n",
    "\n",
    "if media >= 7:\n",
    "    print(\"Aprovado, média maior igual a 7\")\n",
    "\n",
    "else:\n",
    "    print(\"Aluno reprovado\")\n",
    "\n",
    "\n",
    "# print (f\"A média do  é:{aluno2}\")\n",
    "# print (f\"A média do Pedro é:{aluno3}\")\n",
    "# print (f\"A média do Pedro é:{aluno4}\")"
   ]
  },
  {
   "cell_type": "code",
   "execution_count": 3,
   "metadata": {},
   "outputs": [
    {
     "name": "stdout",
     "output_type": "stream",
     "text": [
      "7\n"
     ]
    }
   ],
   "source": [
    "# Cuidado com codigos repetidos, pode ser transformados em funçaõ pela DEF\n",
    "\n",
    "# def (Define)\n",
    "\n",
    "\n",
    "# 1- Criar uma função\n",
    "def funcao ():\n",
    "    soma = 3 + 4 \n",
    "    return soma\n",
    "    \n",
    "     #escopo inteiro é tudo o que acontec dentro da funçao\n",
    "\n",
    "# 2 - Executar função\n",
    "print(funcao())\n",
    "# escopo global fica na parte de fora, encostado na linha\n",
    "\n"
   ]
  },
  {
   "cell_type": "code",
   "execution_count": null,
   "metadata": {},
   "outputs": [],
   "source": [
    "def funcao ():\n",
    "    return 3 + 4 "
   ]
  },
  {
   "cell_type": "code",
   "execution_count": null,
   "metadata": {},
   "outputs": [
    {
     "name": "stdout",
     "output_type": "stream",
     "text": [
      "Menor\n"
     ]
    }
   ],
   "source": [
    "# O processamento da funçao será parado quando encontrar a intruçao return\n",
    "\n",
    "def funcao():\n",
    "    a = 5\n",
    "    b = 6\n",
    "    return a \n",
    "\n",
    "    soma = a + b\n",
    "    return soma\n",
    "\n",
    "print (funcao())"
   ]
  },
  {
   "cell_type": "code",
   "execution_count": null,
   "metadata": {},
   "outputs": [
    {
     "name": "stdout",
     "output_type": "stream",
     "text": [
      "a soma de 5 e 6 é 11\n"
     ]
    }
   ],
   "source": [
    "# O processamento da funçao será parado quando encontrar a intruçao return\n",
    "\n",
    "def funcao():\n",
    "    a = 5\n",
    "    b = 6\n",
    "\n",
    "    #soma com interpolçaõ\n",
    "    return f'a soma de {a} e {b} é {a+b}'\n",
    "\n",
    "    soma = a + b\n",
    "    return soma\n",
    "print (funcao())"
   ]
  },
  {
   "cell_type": "code",
   "execution_count": null,
   "metadata": {},
   "outputs": [
    {
     "name": "stdout",
     "output_type": "stream",
     "text": [
      "20\n",
      "8\n",
      "224\n",
      "514988810\n"
     ]
    }
   ],
   "source": [
    "# funçao pode receber parametros \n",
    "\n",
    "def mult(v1, v2):\n",
    "    return v1*v2\n",
    "\n",
    "\n",
    "print(mult(5, 4))\n",
    "print(mult(2, 4))\n",
    "print(mult(56, 4))\n",
    "print(mult(5465, 94234))"
   ]
  },
  {
   "cell_type": "code",
   "execution_count": 9,
   "metadata": {},
   "outputs": [
    {
     "name": "stdout",
     "output_type": "stream",
     "text": [
      "Bem-Vindo(a) matheus\n"
     ]
    }
   ],
   "source": [
    "# funçoes com input \n",
    "\n",
    "def saudaçoes (nome):\n",
    "    return f\"Bem-Vindo(a) {nome}\"\n",
    "nome = input(\"Digite seu nome: \")\n",
    "\n",
    "print(saudaçoes(nome))"
   ]
  },
  {
   "cell_type": "code",
   "execution_count": null,
   "metadata": {},
   "outputs": [],
   "source": [
    "# funçoes com input \n",
    "\n",
    "def saudaçoes (nome):\n",
    "    return f\"Bem-Vindo(a) {nome}\"\n",
    "nome = input(\"Digite seu nome: \")\n",
    "\n",
    "\n",
    "print(saudaçoes(nome))\n",
    "print(saudaçoes(\"Nanias\"))"
   ]
  },
  {
   "cell_type": "code",
   "execution_count": null,
   "metadata": {},
   "outputs": [
    {
     "name": "stdout",
     "output_type": "stream",
     "text": [
      "8\n"
     ]
    }
   ],
   "source": [
    " # os paramentros podem conte um valor padrão - PARAMETRO POSICIONADOS\n",
    "\n",
    "def mult(v1=0,v2=0):\n",
    "    return v1*v2\n",
    "\n",
    "print(mult(2,4))#v1,v2\n",
    "print(mult(2))\n"
   ]
  },
  {
   "cell_type": "code",
   "execution_count": null,
   "metadata": {},
   "outputs": [],
   "source": [
    "# Parametros posicionais x -PARAMETROS NOMEADOS\n",
    "\n",
    "# PARAMETROS NOMEADOS\n",
    "\n",
    "def sub(v1,v2):\n",
    "    return v1-v2\n",
    "\n",
    "print(sub(v2=2,v1=4))#de acordo com o nome.\n"
   ]
  },
  {
   "cell_type": "code",
   "execution_count": null,
   "metadata": {},
   "outputs": [],
   "source": [
    "# def confirmar idade\n",
    "\n",
    "def funcao():\n",
    "    \n",
    "    a = int(input(\"sua idade\"))\n",
    "    b  = int(input(\"confirme a sua idade\"))\n",
    "\n",
    "\n",
    "    if a == b and a >= 18:\n",
    "         print(\"Maior de idade\")\n",
    "    else:\n",
    "        print(\"Menor\")\n",
    " \n",
    "funcao()"
   ]
  },
  {
   "cell_type": "code",
   "execution_count": 35,
   "metadata": {},
   "outputs": [
    {
     "name": "stdout",
     "output_type": "stream",
     "text": [
      "O numero 2 é par\n",
      "o numero é 3 é impar\n",
      "O numero 4 é par\n",
      "o numero é 5 é impar\n"
     ]
    }
   ],
   "source": [
    "# Funçoes com estrutura condicional if\n",
    "\n",
    "def par_ou_impar(valor):\n",
    "    if valor % 2 == 0:\n",
    "        return f\"O numero {valor} é par\"\n",
    "    else:\n",
    "        return f\"o numero é {valor} é impar\"\n",
    "\n",
    "print( par_ou_impar(2))\n",
    "print( par_ou_impar(3))\n",
    "print( par_ou_impar(4))\n",
    "print( par_ou_impar(5))"
   ]
  },
  {
   "cell_type": "code",
   "execution_count": 40,
   "metadata": {},
   "outputs": [
    {
     "name": "stdout",
     "output_type": "stream",
     "text": [
      "5.0\n"
     ]
    }
   ],
   "source": [
    "# funcoes com e sem print \n",
    "\n",
    "def som (v1,v2):\n",
    "    return v1 + v2\n",
    "\n",
    "def metade(valor):\n",
    "    return valor/ 2\n",
    "\n",
    "resultado1 = som(4,6)\n",
    "resultado2 = metade(resultado1)\n",
    "print(resultado2)\n"
   ]
  }
 ],
 "metadata": {
  "kernelspec": {
   "display_name": "base",
   "language": "python",
   "name": "python3"
  },
  "language_info": {
   "codemirror_mode": {
    "name": "ipython",
    "version": 3
   },
   "file_extension": ".py",
   "mimetype": "text/x-python",
   "name": "python",
   "nbconvert_exporter": "python",
   "pygments_lexer": "ipython3",
   "version": "3.11.5"
  }
 },
 "nbformat": 4,
 "nbformat_minor": 2
}
